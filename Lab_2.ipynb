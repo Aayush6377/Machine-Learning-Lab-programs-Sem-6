{
  "cells": [
    {
      "cell_type": "markdown",
      "metadata": {
        "id": "view-in-github",
        "colab_type": "text"
      },
      "source": [
        "<a href=\"https://colab.research.google.com/github/Aayush6377/Machine-Learning-Lab-programs-Sem-6/blob/main/Lab_2.ipynb\" target=\"_parent\"><img src=\"https://colab.research.google.com/assets/colab-badge.svg\" alt=\"Open In Colab\"/></a>"
      ]
    },
    {
      "cell_type": "markdown",
      "metadata": {
        "id": "LHnGQU1i-yXg"
      },
      "source": [
        "## **Experiment 2 :  Experiment with Following NumPy Operations through Python Commands**"
      ]
    },
    {
      "cell_type": "markdown",
      "metadata": {
        "id": "1C2969RR_DpT"
      },
      "source": [
        "### 2.1. Create Arrays Using Different Methods"
      ]
    },
    {
      "cell_type": "code",
      "execution_count": null,
      "metadata": {
        "id": "1BFJR668-DsY"
      },
      "outputs": [],
      "source": [
        "import numpy as np"
      ]
    },
    {
      "cell_type": "code",
      "execution_count": null,
      "metadata": {
        "colab": {
          "base_uri": "https://localhost:8080/"
        },
        "id": "vc8Wyvkd_gDK",
        "outputId": "4d192b31-5cfc-4024-833e-f2293c3ecc41"
      },
      "outputs": [
        {
          "output_type": "stream",
          "name": "stdout",
          "text": [
            "[1 2 3 4 5]\n"
          ]
        }
      ],
      "source": [
        "#Creating array using array() function\n",
        "arr1=np.array([1,2,3,4,5])\n",
        "print(arr1)"
      ]
    },
    {
      "cell_type": "code",
      "execution_count": null,
      "metadata": {
        "colab": {
          "base_uri": "https://localhost:8080/"
        },
        "id": "5zW5W93ZAYHo",
        "outputId": "9fe0309b-43d5-4bfc-da48-138dce0b3f0c"
      },
      "outputs": [
        {
          "output_type": "stream",
          "name": "stdout",
          "text": [
            "[0. 0. 0. 0.]\n"
          ]
        }
      ],
      "source": [
        "#Creating array using zeros() function\n",
        "arr2=np.zeros(4)\n",
        "print(arr2)"
      ]
    },
    {
      "cell_type": "code",
      "execution_count": null,
      "metadata": {
        "colab": {
          "base_uri": "https://localhost:8080/"
        },
        "id": "tyKOoRTNAiTc",
        "outputId": "9f732189-f2ac-482e-ed51-b77305c52eaa"
      },
      "outputs": [
        {
          "output_type": "stream",
          "name": "stdout",
          "text": [
            "[[1. 1. 1. 1.]\n",
            " [1. 1. 1. 1.]\n",
            " [1. 1. 1. 1.]]\n"
          ]
        }
      ],
      "source": [
        "#Creating array using ones() function\n",
        "arr3=np.ones((3,4))\n",
        "print(arr3)"
      ]
    },
    {
      "cell_type": "code",
      "execution_count": null,
      "metadata": {
        "colab": {
          "base_uri": "https://localhost:8080/"
        },
        "id": "kvhFyFVDA-sH",
        "outputId": "10d8e0a2-ef36-4381-cba1-f6959c09b826"
      },
      "outputs": [
        {
          "output_type": "stream",
          "name": "stdout",
          "text": [
            "[0 1 2 3 4 5 6 7 8 9]\n"
          ]
        }
      ],
      "source": [
        "#Creating array using arange() function\n",
        "arr4=np.arange(0,10,1)\n",
        "print(arr4)"
      ]
    },
    {
      "cell_type": "code",
      "execution_count": 7,
      "metadata": {
        "colab": {
          "base_uri": "https://localhost:8080/"
        },
        "id": "pJqaXjvABLKp",
        "outputId": "4926537b-2093-448d-db01-d2b3e5864ecf"
      },
      "outputs": [
        {
          "output_type": "stream",
          "name": "stdout",
          "text": [
            "[  1.  12.  23.  34.  45.  56.  67.  78.  89. 100.]\n"
          ]
        }
      ],
      "source": [
        "#Creating array using linspace() function\n",
        "arr5=np.linspace(1,100,10)\n",
        "print(arr5)"
      ]
    },
    {
      "cell_type": "code",
      "source": [
        "#Creating array using identity() function\n",
        "arr6=np.identity(3)\n",
        "print(arr6)"
      ],
      "metadata": {
        "colab": {
          "base_uri": "https://localhost:8080/"
        },
        "id": "dKrq1KbaD394",
        "outputId": "15c5d937-b59b-4d45-d6b0-36b694edfe0f"
      },
      "execution_count": 10,
      "outputs": [
        {
          "output_type": "stream",
          "name": "stdout",
          "text": [
            "[[1. 0. 0.]\n",
            " [0. 1. 0.]\n",
            " [0. 0. 1.]]\n"
          ]
        }
      ]
    },
    {
      "cell_type": "code",
      "source": [
        "#Creating array using full() function\n",
        "arr7=np.full((2,3),3)\n",
        "print(arr7)"
      ],
      "metadata": {
        "colab": {
          "base_uri": "https://localhost:8080/"
        },
        "id": "7N4eEU1DEarW",
        "outputId": "ab39ef08-9691-4732-e00e-1d3dfb4b55fe"
      },
      "execution_count": 11,
      "outputs": [
        {
          "output_type": "stream",
          "name": "stdout",
          "text": [
            "[[3 3 3]\n",
            " [3 3 3]]\n"
          ]
        }
      ]
    },
    {
      "cell_type": "markdown",
      "source": [
        "### 2.2. Array Indexing and Slicing"
      ],
      "metadata": {
        "id": "DYjgcKiiE5BL"
      }
    },
    {
      "cell_type": "code",
      "source": [
        "#Creating a array\n",
        "a=np.array([[1,2,3],[4,5,6],[7,8,9]])\n",
        "print(a)"
      ],
      "metadata": {
        "colab": {
          "base_uri": "https://localhost:8080/"
        },
        "id": "GQV0TooIE-JV",
        "outputId": "e5e12185-673b-41f5-8e44-9bd64e241f5e"
      },
      "execution_count": 12,
      "outputs": [
        {
          "output_type": "stream",
          "name": "stdout",
          "text": [
            "[[1 2 3]\n",
            " [4 5 6]\n",
            " [7 8 9]]\n"
          ]
        }
      ]
    },
    {
      "cell_type": "code",
      "source": [
        "#Basic Indexing in array\n",
        "print(\"a[0,2]=\",a[0,2])\n",
        "print(\"a[2,1]=\",a[2,1])"
      ],
      "metadata": {
        "colab": {
          "base_uri": "https://localhost:8080/"
        },
        "id": "DknV2NgpExJw",
        "outputId": "dfb3c299-c3bc-4979-d479-fe6fd7845eb4"
      },
      "execution_count": 13,
      "outputs": [
        {
          "output_type": "stream",
          "name": "stdout",
          "text": [
            "a[0,2]= 3\n",
            "a[2,1]= 8\n"
          ]
        }
      ]
    },
    {
      "cell_type": "code",
      "source": [
        "#Negative Indexing in array\n",
        "print(\"a[-1,-2] =\",a[-1,-2])\n",
        "print(\"a[-3] =\",a[-3])"
      ],
      "metadata": {
        "colab": {
          "base_uri": "https://localhost:8080/"
        },
        "id": "-QV8S-1FGL8R",
        "outputId": "3c4c843f-75bf-414c-f3b2-1dc098ce7410"
      },
      "execution_count": 16,
      "outputs": [
        {
          "output_type": "stream",
          "name": "stdout",
          "text": [
            "a[-1,-2] = 8\n",
            "a[-3] = [1 2 3]\n"
          ]
        }
      ]
    },
    {
      "cell_type": "code",
      "source": [
        "#Slicing in array\n",
        "print(\"Last 2 rows and last two columns\\n\",a[1:,1:])\n",
        "print(\"All rows and 1st and 3rd column\\n\",a[:,[0,2]])"
      ],
      "metadata": {
        "colab": {
          "base_uri": "https://localhost:8080/"
        },
        "id": "xwa1JYQnGeWL",
        "outputId": "cd9b6bf9-8246-4a15-bc5e-efb16cd51e09"
      },
      "execution_count": 23,
      "outputs": [
        {
          "output_type": "stream",
          "name": "stdout",
          "text": [
            "Last 2 rows and last two columns\n",
            " [[5 6]\n",
            " [8 9]]\n",
            "All rows and 1st and 3rd column\n",
            " [[1 3]\n",
            " [4 6]\n",
            " [7 9]]\n"
          ]
        }
      ]
    },
    {
      "cell_type": "code",
      "source": [
        "#Boolean indexing in array\n",
        "print(\"Elements greater than 5: \",a[a>5])\n",
        "print(\"Even elements: \",a[a%2==0])"
      ],
      "metadata": {
        "colab": {
          "base_uri": "https://localhost:8080/"
        },
        "id": "IV91vXFqHrai",
        "outputId": "b87c95f3-cfe8-4bcf-e689-91f7c5ee11ed"
      },
      "execution_count": 26,
      "outputs": [
        {
          "output_type": "stream",
          "name": "stdout",
          "text": [
            "Elements greater than 5:  [6 7 8 9]\n",
            "Even elements:  [2 4 6 8]\n"
          ]
        }
      ]
    },
    {
      "cell_type": "markdown",
      "source": [
        "###2.3. Mathematical Operations on Arrays"
      ],
      "metadata": {
        "id": "V8ORDDLzIMKe"
      }
    },
    {
      "cell_type": "code",
      "source": [
        "a=np.arange(1,11)\n",
        "b=np.linspace(1,100,10)\n",
        "print(\"a =\",a)\n",
        "print(\"b =\",b)"
      ],
      "metadata": {
        "colab": {
          "base_uri": "https://localhost:8080/"
        },
        "id": "z1rQe9A3IPV6",
        "outputId": "6e342f8a-3bc1-463e-c8f8-0473d7e708cc"
      },
      "execution_count": 27,
      "outputs": [
        {
          "output_type": "stream",
          "name": "stdout",
          "text": [
            "a = [ 1  2  3  4  5  6  7  8  9 10]\n",
            "b = [  1.  12.  23.  34.  45.  56.  67.  78.  89. 100.]\n"
          ]
        }
      ]
    },
    {
      "cell_type": "code",
      "source": [
        "#Element-Wise Arithmetic Operations\n",
        "print(\"Sum (a+b): \",a+b)\n",
        "print(\"Subtraction by 5 (a-5): \",a-5)\n",
        "print(\"Multiplication (axb): \",a*b)\n",
        "print(\"Division by 2 (a/2): \",a/2)"
      ],
      "metadata": {
        "colab": {
          "base_uri": "https://localhost:8080/"
        },
        "id": "binTEJK0Imi1",
        "outputId": "e397526f-41ee-40a5-f61d-ee8bb66532d2"
      },
      "execution_count": 31,
      "outputs": [
        {
          "output_type": "stream",
          "name": "stdout",
          "text": [
            "Sum (a+b):  [  2.  14.  26.  38.  50.  62.  74.  86.  98. 110.]\n",
            "Subtraction by 5 (a-5):  [-4 -3 -2 -1  0  1  2  3  4  5]\n",
            "Multiplication (axb):  [   1.   24.   69.  136.  225.  336.  469.  624.  801. 1000.]\n",
            "Division by 2 (a/2):  [0.5 1.  1.5 2.  2.5 3.  3.5 4.  4.5 5. ]\n"
          ]
        }
      ]
    },
    {
      "cell_type": "code",
      "source": [
        "#Aggregate Functions\n",
        "print(\"Sum: \",a.sum())\n",
        "print(\"Mean: \",a.mean())\n",
        "print(\"Standard Deviation: \",a.std())\n",
        "print(\"Maximum: \",a.max())"
      ],
      "metadata": {
        "colab": {
          "base_uri": "https://localhost:8080/"
        },
        "id": "Duss4Ny5IydK",
        "outputId": "381eea7d-469c-4c6f-8cc9-6487bec8f76c"
      },
      "execution_count": 30,
      "outputs": [
        {
          "output_type": "stream",
          "name": "stdout",
          "text": [
            "Sum:  55\n",
            "Mean:  5.5\n",
            "Standard Deviation:  2.8722813232690143\n",
            "Maximum:  10\n"
          ]
        }
      ]
    },
    {
      "cell_type": "code",
      "source": [
        "#Element-Wise Mathematical Functions\n",
        "print(\"Sin(a): \",np.sin(a).round(2))\n",
        "print(\"Sqrt(a): \",np.sqrt(a).round(2))\n",
        "print(\"Log(a): \",np.log(a).round(2))"
      ],
      "metadata": {
        "colab": {
          "base_uri": "https://localhost:8080/"
        },
        "id": "FMhXBRNrJu6d",
        "outputId": "1b7f57a8-2445-4420-9799-6c08612d35fc"
      },
      "execution_count": 38,
      "outputs": [
        {
          "output_type": "stream",
          "name": "stdout",
          "text": [
            "Sin(a):  [ 0.84  0.91  0.14 -0.76 -0.96 -0.28  0.66  0.99  0.41 -0.54]\n",
            "Sqrt(a):  [1.   1.41 1.73 2.   2.24 2.45 2.65 2.83 3.   3.16]\n",
            "Log(a):  [0.   0.69 1.1  1.39 1.61 1.79 1.95 2.08 2.2  2.3 ]\n"
          ]
        }
      ]
    },
    {
      "cell_type": "markdown",
      "source": [
        "### 2.4. Matrix Operations"
      ],
      "metadata": {
        "id": "E7JKCtIIL4ZW"
      }
    },
    {
      "cell_type": "code",
      "source": [
        "#Creating two matrix\n",
        "a=np.array([[1,2,3],[4,5,6],[7,8,9]])\n",
        "b=np.array([[-2,-3,-1],[-3,4,6],[0,0,1]])\n",
        "print(a)\n",
        "print(b)"
      ],
      "metadata": {
        "colab": {
          "base_uri": "https://localhost:8080/"
        },
        "id": "7IGop3EcLlVi",
        "outputId": "f76da434-aa9b-4151-e802-e6d4277a4c96"
      },
      "execution_count": 39,
      "outputs": [
        {
          "output_type": "stream",
          "name": "stdout",
          "text": [
            "[[1 2 3]\n",
            " [4 5 6]\n",
            " [7 8 9]]\n",
            "[[-2 -3 -1]\n",
            " [-3  4  6]\n",
            " [ 0  0  1]]\n"
          ]
        }
      ]
    },
    {
      "cell_type": "code",
      "source": [
        "#Matrix multiplication\n",
        "print(np.dot(a,b))"
      ],
      "metadata": {
        "colab": {
          "base_uri": "https://localhost:8080/"
        },
        "id": "7x0QTH77Mnoa",
        "outputId": "c069eeaa-369a-4e77-9f0c-cdf7679a4311"
      },
      "execution_count": 40,
      "outputs": [
        {
          "output_type": "stream",
          "name": "stdout",
          "text": [
            "[[ -8   5  14]\n",
            " [-23   8  32]\n",
            " [-38  11  50]]\n"
          ]
        }
      ]
    },
    {
      "cell_type": "code",
      "source": [
        "#Transpose of a matrix\n",
        "print(a.transpose())"
      ],
      "metadata": {
        "colab": {
          "base_uri": "https://localhost:8080/"
        },
        "id": "UZRH-AYeMzto",
        "outputId": "7428a188-7068-472f-a3c0-f93fc0e57490"
      },
      "execution_count": 41,
      "outputs": [
        {
          "output_type": "stream",
          "name": "stdout",
          "text": [
            "[[1 4 7]\n",
            " [2 5 8]\n",
            " [3 6 9]]\n"
          ]
        }
      ]
    },
    {
      "cell_type": "markdown",
      "source": [
        "###2.5. Generate Random Data and Perform Distribution Operations"
      ],
      "metadata": {
        "id": "fLW023y1OHPD"
      }
    },
    {
      "cell_type": "code",
      "source": [
        "#Random Numbers between 0 and 1\n",
        "a=np.random.rand(3,4)\n",
        "print(a.round(3))"
      ],
      "metadata": {
        "colab": {
          "base_uri": "https://localhost:8080/"
        },
        "id": "6jGnUezaOMD-",
        "outputId": "d02062b5-a4b2-4dee-937f-4c1d308a681c"
      },
      "execution_count": 51,
      "outputs": [
        {
          "output_type": "stream",
          "name": "stdout",
          "text": [
            "[[0.228 0.245 0.723 0.785]\n",
            " [0.672 0.051 0.523 0.875]\n",
            " [0.877 0.943 0.466 0.903]]\n"
          ]
        }
      ]
    },
    {
      "cell_type": "code",
      "source": [
        "#Random Numbers between a range\n",
        "a=np.random.randint(10,40,size=(2,3))\n",
        "print(a)"
      ],
      "metadata": {
        "colab": {
          "base_uri": "https://localhost:8080/"
        },
        "id": "9qAR16-8O06l",
        "outputId": "21b95b1d-2224-463c-d8dd-7f85b1d3e379"
      },
      "execution_count": 52,
      "outputs": [
        {
          "output_type": "stream",
          "name": "stdout",
          "text": [
            "[[36 17 18]\n",
            " [16 25 13]]\n"
          ]
        }
      ]
    },
    {
      "cell_type": "code",
      "source": [
        "#Generate values from a normal distribution\n",
        "a=np.random.normal(loc=1,scale=2,size=(4,3))\n",
        "print(a)"
      ],
      "metadata": {
        "colab": {
          "base_uri": "https://localhost:8080/"
        },
        "id": "nn5v-BREP7qQ",
        "outputId": "716a335b-6153-4870-efad-ce95a1facbd9"
      },
      "execution_count": 80,
      "outputs": [
        {
          "output_type": "stream",
          "name": "stdout",
          "text": [
            "[[ 2.44217264  5.61767741  0.68954091]\n",
            " [-3.15348451  2.35884299  2.64154258]\n",
            " [ 0.15863815  1.10928881 -1.73877885]\n",
            " [ 1.89222344 -1.06821845  1.16316845]]\n"
          ]
        }
      ]
    },
    {
      "cell_type": "code",
      "source": [
        "#Generate random values from a uniform distribution\n",
        "a=np.random.uniform(low=5,high=20,size=5)\n",
        "print(a)"
      ],
      "metadata": {
        "colab": {
          "base_uri": "https://localhost:8080/"
        },
        "id": "o4V2VvaeQe7W",
        "outputId": "c9add8a3-9946-433d-ad45-9d8654fa9e90"
      },
      "execution_count": 81,
      "outputs": [
        {
          "output_type": "stream",
          "name": "stdout",
          "text": [
            "[15.84906637 13.45627874 15.66032296 16.76146696  6.78972242]\n"
          ]
        }
      ]
    },
    {
      "cell_type": "code",
      "source": [
        "#Plot the histogram\n",
        "import matplotlib.pyplot as plt\n",
        "temp=np.random.normal(loc=10,scale=30,size=1000)\n",
        "plt.hist(temp,bins=100,color=\"black\")\n",
        "plt.show()"
      ],
      "metadata": {
        "colab": {
          "base_uri": "https://localhost:8080/",
          "height": 430
        },
        "id": "fn_WwLUuRVC7",
        "outputId": "ae541c01-0431-4d09-a80e-0c78e56ee2b4"
      },
      "execution_count": 91,
      "outputs": [
        {
          "output_type": "display_data",
          "data": {
            "text/plain": [
              "<Figure size 640x480 with 1 Axes>"
            ],
            "image/png": "[encoded data removed]"
          },
          "metadata": {}
        }
      ]
    },
    {
      "cell_type": "markdown",
      "source": [
        "###2.6. Linear Algebra Operations"
      ],
      "metadata": {
        "id": "aKUsZn4hShw9"
      }
    },
    {
      "cell_type": "code",
      "source": [
        "#Creating a matrix\n",
        "q=np.array([[1,-2,0],[2,-3,-1],[0,7,4]])\n",
        "print(q)"
      ],
      "metadata": {
        "colab": {
          "base_uri": "https://localhost:8080/"
        },
        "id": "mapzpWKrSlbO",
        "outputId": "e66d9062-db45-4a8f-dfa3-96076fe2b48e"
      },
      "execution_count": 92,
      "outputs": [
        {
          "output_type": "stream",
          "name": "stdout",
          "text": [
            "[[ 1 -2  0]\n",
            " [ 2 -3 -1]\n",
            " [ 0  7  4]]\n"
          ]
        }
      ]
    },
    {
      "cell_type": "code",
      "source": [
        "#Determinant of a matrix\n",
        "print(np.linalg.det(q))"
      ],
      "metadata": {
        "colab": {
          "base_uri": "https://localhost:8080/"
        },
        "id": "9A-6K0S8S5KM",
        "outputId": "578bb66f-01d7-4a9b-bb3d-155ffe20c0a7"
      },
      "execution_count": 103,
      "outputs": [
        {
          "output_type": "stream",
          "name": "stdout",
          "text": [
            "10.999999999999996\n"
          ]
        }
      ]
    },
    {
      "cell_type": "code",
      "source": [
        "#Matrix Inversion\n",
        "print(np.linalg.inv(q))"
      ],
      "metadata": {
        "colab": {
          "base_uri": "https://localhost:8080/"
        },
        "id": "WhpMnBLiTEAa",
        "outputId": "7e832a0b-73bc-4f4a-b101-c3b2b0dcc9f7"
      },
      "execution_count": 95,
      "outputs": [
        {
          "output_type": "stream",
          "name": "stdout",
          "text": [
            "[[-0.45454545  0.72727273  0.18181818]\n",
            " [-0.72727273  0.36363636  0.09090909]\n",
            " [ 1.27272727 -0.63636364  0.09090909]]\n"
          ]
        }
      ]
    },
    {
      "cell_type": "code",
      "source": [
        "#Eigenvalues and eigenvectors\n",
        "val,vec=np.linalg.eig(b)\n",
        "print(\"Eigenvalue: \",val.round(2))\n",
        "print(\"Eigenvector: \\n\",vec.round(2))"
      ],
      "metadata": {
        "colab": {
          "base_uri": "https://localhost:8080/"
        },
        "id": "THfdWhgqTJEN",
        "outputId": "bbde21e9-7363-45c5-dd2a-2aa28978fa87"
      },
      "execution_count": 104,
      "outputs": [
        {
          "output_type": "stream",
          "name": "stdout",
          "text": [
            "Eigenvalue:  [-3.24  5.24  1.  ]\n",
            "Eigenvector: \n",
            " [[-0.92  0.38  0.48]\n",
            " [-0.38 -0.92 -0.67]\n",
            " [ 0.    0.    0.57]]\n"
          ]
        }
      ]
    },
    {
      "cell_type": "code",
      "source": [
        "#solve linear equations of the form Ax = B\n",
        "#2x+3y=8 and x-y=2\n",
        "A=np.array([[2,3],[1,-1]])\n",
        "B=np.array([[8],[2]])\n",
        "print(np.linalg.solve(A,B))"
      ],
      "metadata": {
        "colab": {
          "base_uri": "https://localhost:8080/"
        },
        "id": "SKqhHGntTyUg",
        "outputId": "b0bf3036-3fb6-412c-ec6a-00bf7b745632"
      },
      "execution_count": 101,
      "outputs": [
        {
          "output_type": "stream",
          "name": "stdout",
          "text": [
            "[[2.8]\n",
            " [0.8]]\n"
          ]
        }
      ]
    },
    {
      "cell_type": "markdown",
      "source": [
        "###2.7. Correlation and Covariance Computation"
      ],
      "metadata": {
        "id": "p-sKbhy0VTBf"
      }
    },
    {
      "cell_type": "code",
      "source": [
        "#Creating two arrays\n",
        "a=np.array([1,23,45,67,90])\n",
        "b=np.array([10,8,-23,-46,-70])\n",
        "print(a)\n",
        "print(b)"
      ],
      "metadata": {
        "colab": {
          "base_uri": "https://localhost:8080/"
        },
        "id": "HMeMIz7-VWIY",
        "outputId": "db877597-29f1-4663-a4f3-4e4eeb269765"
      },
      "execution_count": 107,
      "outputs": [
        {
          "output_type": "stream",
          "name": "stdout",
          "text": [
            "[ 1 23 45 67 90]\n",
            "[ 10   8 -23 -46 -70]\n"
          ]
        }
      ]
    },
    {
      "cell_type": "code",
      "source": [
        "#Compute covariance matrix\n",
        "m=np.cov(a,b)\n",
        "print(\"Covariance Matrix\\n\",m)\n",
        "print(\"Covariance: \",m[0,1])"
      ],
      "metadata": {
        "colab": {
          "base_uri": "https://localhost:8080/"
        },
        "id": "6n8SKa7eWJ7I",
        "outputId": "6505a6af-ee99-47f9-8a8a-15600801b1b3"
      },
      "execution_count": 112,
      "outputs": [
        {
          "output_type": "stream",
          "name": "stdout",
          "text": [
            "Covariance Matrix\n",
            " [[ 1232.2  -1188.45]\n",
            " [-1188.45  1195.2 ]]\n",
            "Covariance:  -1188.45\n"
          ]
        }
      ]
    },
    {
      "cell_type": "code",
      "source": [
        "#Compute correlation matrix\n",
        "m=np.corrcoef(a,b)\n",
        "print(\"Correlation Matrix\\n\", m)\n",
        "print(\"Correlation: \",m[0,1])"
      ],
      "metadata": {
        "colab": {
          "base_uri": "https://localhost:8080/"
        },
        "id": "53SSH41yYNO8",
        "outputId": "bb434806-acba-46b8-fb6d-70a2b6db4714"
      },
      "execution_count": 110,
      "outputs": [
        {
          "output_type": "stream",
          "name": "stdout",
          "text": [
            "Correlation Matrix\n",
            " [[ 1.         -0.97930962]\n",
            " [-0.97930962  1.        ]]\n",
            "Correlation:  -0.9793096195693798\n"
          ]
        }
      ]
    },
    {
      "cell_type": "markdown",
      "source": [
        "### 2.8. Sort and Search Elements in an Array"
      ],
      "metadata": {
        "id": "5GiemEr7YzkO"
      }
    },
    {
      "cell_type": "code",
      "source": [
        "#Sort the 1D array\n",
        "a=np.array([23,89,-23,90,-1,0,45])\n",
        "print(\"Sorted array: \",np.sort(a))"
      ],
      "metadata": {
        "colab": {
          "base_uri": "https://localhost:8080/"
        },
        "id": "rqVd9cNUY2Bh",
        "outputId": "66791e03-b709-4707-845b-007a428f348a"
      },
      "execution_count": 116,
      "outputs": [
        {
          "output_type": "stream",
          "name": "stdout",
          "text": [
            "Sorted array:  [-23  -1   0  23  45  89  90]\n"
          ]
        }
      ]
    },
    {
      "cell_type": "code",
      "source": [
        "#Sort the 2D array\n",
        "b=np.array([[3,4,2],[3,-3,2],[1,6,7]])\n",
        "\n",
        "print(\"Original\\n\",b)\n",
        "print(\"Sort along each row\\n\",np.sort(b))\n",
        "print(\"Sort along each column\\n\",np.sort(b,axis=0))"
      ],
      "metadata": {
        "colab": {
          "base_uri": "https://localhost:8080/"
        },
        "id": "RMq5Kg_waByn",
        "outputId": "611731df-f460-410a-cd40-a1a0caa9acd0"
      },
      "execution_count": 122,
      "outputs": [
        {
          "output_type": "stream",
          "name": "stdout",
          "text": [
            "Original\n",
            " [[ 3  4  2]\n",
            " [ 3 -3  2]\n",
            " [ 1  6  7]]\n",
            "Sort along each row\n",
            " [[ 2  3  4]\n",
            " [-3  2  3]\n",
            " [ 1  6  7]]\n",
            "Sort along each column\n",
            " [[ 1 -3  2]\n",
            " [ 3  4  2]\n",
            " [ 3  6  7]]\n"
          ]
        }
      ]
    },
    {
      "cell_type": "code",
      "source": [
        "#Searching using where() function\n",
        "a=np.array([23,89,-23,90,-1,0,45])\n",
        "print(\"Searching for a element: \",np.where(a==-1))\n",
        "print(\"Searching with condition: \",np.where((a>0) & (a%2)))"
      ],
      "metadata": {
        "colab": {
          "base_uri": "https://localhost:8080/"
        },
        "id": "gpzFZanebgBt",
        "outputId": "8d7d1beb-033a-4161-c935-70dc80afdd51"
      },
      "execution_count": 125,
      "outputs": [
        {
          "output_type": "stream",
          "name": "stdout",
          "text": [
            "Searching for a element:  (array([4]),)\n",
            "Searching with condition:  (array([0, 1, 6]),)\n"
          ]
        }
      ]
    }
  ],
  "metadata": {
    "colab": {
      "provenance": [],
      "authorship_tag": "ABX9TyMzPMUoz2OrrzvkF9KEbdtQ",
      "include_colab_link": true
    },
    "kernelspec": {
      "display_name": "Python 3",
      "name": "python3"
    },
    "language_info": {
      "name": "python"
    }
  },
  "nbformat": 4,
  "nbformat_minor": 0
}