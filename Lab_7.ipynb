{
  "nbformat": 4,
  "nbformat_minor": 0,
  "metadata": {
    "colab": {
      "provenance": [],
      "authorship_tag": "ABX9TyNUV8jyBCg4ZTYwlHRfoiVV",
      "include_colab_link": true
    },
    "kernelspec": {
      "name": "python3",
      "display_name": "Python 3"
    },
    "language_info": {
      "name": "python"
    }
  },
  "cells": [
    {
      "cell_type": "markdown",
      "metadata": {
        "id": "view-in-github",
        "colab_type": "text"
      },
      "source": [
        "<a href=\"https://colab.research.google.com/github/Aayush6377/Machine-Learning-Lab-programs-Sem-6/blob/main/Lab_7.ipynb\" target=\"_parent\"><img src=\"https://colab.research.google.com/assets/colab-badge.svg\" alt=\"Open In Colab\"/></a>"
      ]
    },
    {
      "cell_type": "markdown",
      "source": [
        "# **Write a Python program to predict House Price Prediction using Linear Regression**"
      ],
      "metadata": {
        "id": "psxcEmtUHWH1"
      }
    },
    {
      "cell_type": "code",
      "execution_count": null,
      "metadata": {
        "id": "lg0h3yHZHVoL"
      },
      "outputs": [],
      "source": [
        "#Importing python libraries\n",
        "import numpy as np\n",
        "import pandas as pd\n",
        "import matplotlib.pyplot as plt\n",
        "import seaborn as sns\n",
        "from sklearn.model_selection import train_test_split\n",
        "from sklearn.linear_model import LinearRegression\n",
        "from sklearn.metrics import mean_absolute_error,mean_squared_error,r2_score\n",
        "from sklearn.preprocessing import PolynomialFeatures\n",
        "from sklearn.pipeline import make_pipeline"
      ]
    },
    {
      "cell_type": "code",
      "source": [
        "#Loading the dataset\n",
        "df=pd.read_csv(\"/content/House Price India.csv\")\n",
        "print(\"Dataset columns: \",df.columns)\n",
        "print(\"Dataset 5 rows and 5 columns:-\")\n",
        "print(df.iloc[:5,:5])\n",
        "df.shape"
      ],
      "metadata": {
        "id": "NaJHEHxmTc_J",
        "colab": {
          "base_uri": "https://localhost:8080/"
        },
        "outputId": "133e9203-c99c-44c0-c464-f72b58a89eb0"
      },
      "execution_count": null,
      "outputs": [
        {
          "output_type": "stream",
          "name": "stdout",
          "text": [
            "Dataset columns:  Index(['id', 'Date', 'bedrooms', 'bathrooms', 'living area', 'lot area',\n",
            "       'floors', 'waterfront present', 'views', 'condition', 'grade', 'Area',\n",
            "       'Built Year', 'Renovation Year', 'Postal Code', 'Lattitude',\n",
            "       'Longitude', 'living_area_renov', 'lot_area_renov',\n",
            "       'Number of schools nearby', 'Distance from the airport', 'Price'],\n",
            "      dtype='object')\n",
            "Dataset 5 rows and 5 columns:-\n",
            "           id   Date  bedrooms  bathrooms  living area\n",
            "0  6762810145  42491         5       2.50         3650\n",
            "1  6762810635  42491         4       2.50         2920\n",
            "2  6762810998  42491         5       2.75         2910\n",
            "3  6762812605  42491         4       2.50         3310\n",
            "4  6762812919  42491         3       2.00         2710\n"
          ]
        },
        {
          "output_type": "execute_result",
          "data": {
            "text/plain": [
              "(14620, 22)"
            ]
          },
          "metadata": {},
          "execution_count": 3
        }
      ]
    },
    {
      "cell_type": "code",
      "source": [
        "#Split the dataset into training and testing sets\n",
        "x=df[[\"bedrooms\",\"bathrooms\",\"floors\",\"condition\",\"grade\",\"Number of schools nearby\",\n",
        "      \"Distance from the airport\",\"Area\",\"living area\",\"lot area\",\"Built Year\",\n",
        "      \"waterfront present\",\"views\",\"living_area_renov\",\"lot_area_renov\"]]\n",
        "y=df[\"Price\"]\n",
        "\n",
        "x_train,x_test,y_train,y_test=train_test_split(x,y,test_size=0.20,random_state=42)\n",
        "print(\"x_train 5 rows: \\n\",x_train.iloc[:5,:2])\n",
        "print(\"x_test 5 rows: \\n\",x_test.iloc[:5,:2])\n",
        "print(\"y_train 5 rows: \\n\",y_train[:5])\n",
        "print(\"y_test 5 rows: \\n\",y_test[:5])"
      ],
      "metadata": {
        "colab": {
          "base_uri": "https://localhost:8080/"
        },
        "id": "_CsF5SB1VY5N",
        "outputId": "ab9b001d-b1d2-4281-b5e7-e25c471137f9"
      },
      "execution_count": null,
      "outputs": [
        {
          "output_type": "stream",
          "name": "stdout",
          "text": [
            "x_train 5 rows: \n",
            "        bedrooms  bathrooms\n",
            "6459          3       2.50\n",
            "10885         4       1.75\n",
            "1369          4       1.50\n",
            "740           2       1.00\n",
            "3474          4       2.25\n",
            "x_test 5 rows: \n",
            "        bedrooms  bathrooms\n",
            "3837          1       1.50\n",
            "4098          3       2.50\n",
            "357           2       1.00\n",
            "11768         5       2.50\n",
            "9751          3       2.75\n",
            "y_train 5 rows: \n",
            " 6459     650000\n",
            "10885    309600\n",
            "1369     275000\n",
            "740      267800\n",
            "3474     305000\n",
            "Name: Price, dtype: int64\n",
            "y_test 5 rows: \n",
            " 3837     235000\n",
            "4098     552000\n",
            "357      615000\n",
            "11768    555000\n",
            "9751     649950\n",
            "Name: Price, dtype: int64\n"
          ]
        }
      ]
    },
    {
      "cell_type": "code",
      "source": [
        "#Creating, training and predicting the model\n",
        "model=PolynomialFeatures(degree=3, include_bias=False)\n",
        "model=make_pipeline(model, LinearRegression())\n",
        "model.fit(x_train,y_train)\n",
        "y_predic=model.predict(x_test)\n",
        "print(\"Actual value: \",y_test[:5])\n",
        "print(\"Predicted value: \",y_predic[:5])"
      ],
      "metadata": {
        "colab": {
          "base_uri": "https://localhost:8080/"
        },
        "id": "ARcYsHdZW2j_",
        "outputId": "c27da8fc-b82e-4632-ce13-dd63b26760fe"
      },
      "execution_count": null,
      "outputs": [
        {
          "output_type": "stream",
          "name": "stdout",
          "text": [
            "Actual value:  3837     235000\n",
            "4098     552000\n",
            "357      615000\n",
            "11768    555000\n",
            "9751     649950\n",
            "Name: Price, dtype: int64\n",
            "Predicted value:  [406697.2671129  609280.81743924 396712.87800628 545019.31805788\n",
            " 605905.7132042 ]\n"
          ]
        }
      ]
    },
    {
      "cell_type": "code",
      "source": [
        "#Evaluate the model\n",
        "mae=mean_absolute_error(y_test,y_predic)\n",
        "mse=mean_squared_error(y_test,y_predic)\n",
        "rmse=np.sqrt(mse)\n",
        "r2=r2_score(y_test,y_predic)\n",
        "\n",
        "print(\"Mean Absolute Error: \",mae)\n",
        "print(\"Mean Squared Error: \",mse)\n",
        "print(\"Root Mean Squared Error: \",rmse)\n",
        "print(\"R² Score:\",r2)"
      ],
      "metadata": {
        "colab": {
          "base_uri": "https://localhost:8080/"
        },
        "id": "4w3jt7CyXwYa",
        "outputId": "63d19fd7-8543-4f93-a391-1dbe065ad751"
      },
      "execution_count": null,
      "outputs": [
        {
          "output_type": "stream",
          "name": "stdout",
          "text": [
            "Mean Absolute Error:  122617.86514280086\n",
            "Mean Squared Error:  36720936416.48904\n",
            "Root Mean Squared Error:  191627.07641794527\n",
            "R² Score: 0.7394180390194971\n"
          ]
        }
      ]
    },
    {
      "cell_type": "code",
      "source": [
        "#Visualizing actual vs predicted prices\n",
        "plt.scatter(y_test, y_predic)\n",
        "plt.xlabel(\"Actual Prices\")\n",
        "plt.ylabel(\"Predicted Prices\")\n",
        "plt.title(\"Actual vs Predicted House Prices\")\n",
        "plt.show()"
      ],
      "metadata": {
        "colab": {
          "base_uri": "https://localhost:8080/",
          "height": 472
        },
        "id": "fT7U6v3VYtub",
        "outputId": "904ad99b-d2ac-4b4b-d348-1b1ce441857d"
      },
      "execution_count": null,
      "outputs": [
        {
          "output_type": "display_data",
          "data": {
            "text/plain": [
              "<Figure size 640x480 with 1 Axes>"
            ],
            "image/png": "[encoded data removed]"
          },
          "metadata": {}
        }
      ]
    }
  ]
}