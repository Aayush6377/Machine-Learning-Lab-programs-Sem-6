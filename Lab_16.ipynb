{
  "nbformat": 4,
  "nbformat_minor": 0,
  "metadata": {
    "colab": {
      "provenance": [],
      "authorship_tag": "ABX9TyONK4ccMyyecb2E6wlWF5/t",
      "include_colab_link": true
    },
    "kernelspec": {
      "name": "python3",
      "display_name": "Python 3"
    },
    "language_info": {
      "name": "python"
    }
  },
  "cells": [
    {
      "cell_type": "markdown",
      "metadata": {
        "id": "view-in-github",
        "colab_type": "text"
      },
      "source": [
        "<a href=\"https://colab.research.google.com/github/Aayush6377/Machine-Learning-Lab-programs-Sem-6/blob/main/Lab_16.ipynb\" target=\"_parent\"><img src=\"https://colab.research.google.com/assets/colab-badge.svg\" alt=\"Open In Colab\"/></a>"
      ]
    },
    {
      "cell_type": "markdown",
      "source": [
        "# **Write a python script where three datasets are required:**\n",
        "\n",
        "\n",
        "### 1.   Small Size datasets (400 to 500 datapoints)\n",
        "### 2.   Intermediate Size datasets (1000 - 2000 datapoints)\n",
        "### 3.   Large Size datasets (50,000 - 90,000 datapoints)\n",
        "\n",
        "### Analyse thee data distribution through plots\n",
        "### Analyse the efficancy of various supervised machine learning algorithm\n",
        "\n"
      ],
      "metadata": {
        "id": "20AGdA05hMIA"
      }
    },
    {
      "cell_type": "code",
      "execution_count": 1,
      "metadata": {
        "id": "_raDPFqXhK5f"
      },
      "outputs": [],
      "source": [
        "#Importing libraries\n",
        "import numpy as np\n",
        "import pandas as pd\n",
        "import matplotlib.pyplot as plt\n",
        "import seaborn as sns\n",
        "from sklearn.model_selection import train_test_split\n",
        "from sklearn.preprocessing import StandardScaler\n",
        "from sklearn.svm import SVC\n",
        "from sklearn.linear_model import LogisticRegression\n",
        "from sklearn.neighbors import KNeighborsClassifier\n",
        "from sklearn.metrics import accuracy_score, classification_report\n",
        "from sklearn.datasets import load_iris, load_breast_cancer, fetch_covtype"
      ]
    },
    {
      "cell_type": "code",
      "source": [
        "#Small Dataset: Iris\n",
        "iris = load_iris()\n",
        "x_iris = iris.data\n",
        "y_iris = iris.target\n",
        "\n",
        "print(f\"Iris Dataset Shape: {x_iris.shape}\")"
      ],
      "metadata": {
        "colab": {
          "base_uri": "https://localhost:8080/"
        },
        "id": "ULkrTwETnYGA",
        "outputId": "ac8efdbe-c930-44e7-cf63-099abdc2689c"
      },
      "execution_count": 2,
      "outputs": [
        {
          "output_type": "stream",
          "name": "stdout",
          "text": [
            "Iris Dataset Shape: (150, 4)\n"
          ]
        }
      ]
    },
    {
      "cell_type": "code",
      "source": [
        "#Intermediate Dataset: Breast Cancer\n",
        "cancer = load_breast_cancer()\n",
        "x_cancer = cancer.data\n",
        "y_cancer = cancer.target\n",
        "\n",
        "print(f\"Breast Cancer Dataset Shape: {x_cancer.shape}\")"
      ],
      "metadata": {
        "colab": {
          "base_uri": "https://localhost:8080/"
        },
        "id": "aikXJhewnzQZ",
        "outputId": "f0990381-19a7-4582-802c-ea7372c87456"
      },
      "execution_count": 3,
      "outputs": [
        {
          "output_type": "stream",
          "name": "stdout",
          "text": [
            "Breast Cancer Dataset Shape: (569, 30)\n"
          ]
        }
      ]
    },
    {
      "cell_type": "code",
      "source": [
        "#Large Dataset: Covertype\n",
        "covtype = fetch_covtype()\n",
        "x_cov = covtype.data\n",
        "y_cov = covtype.target\n",
        "\n",
        "print(f\"Covertype Dataset Shape: {x_cov.shape}\")"
      ],
      "metadata": {
        "colab": {
          "base_uri": "https://localhost:8080/"
        },
        "id": "kbPfnUBrn5_q",
        "outputId": "0eda64d0-eaf9-4684-992c-d2ea0410e5f5"
      },
      "execution_count": 4,
      "outputs": [
        {
          "output_type": "stream",
          "name": "stdout",
          "text": [
            "Covertype Dataset Shape: (581012, 54)\n"
          ]
        }
      ]
    },
    {
      "cell_type": "code",
      "source": [
        "#Define Training & Evaluation Function\n",
        "def evaluate_model(x,y,dataset_name):\n",
        "  print(\"\\nEvaluating on: \",dataset_name)\n",
        "\n",
        "  x_train, x_test, y_train, y_test = train_test_split(x,y,test_size=0.2,random_state=42,stratify=y)\n",
        "\n",
        "  scaler=StandardScaler()\n",
        "  x_train = scaler.fit_transform(x_train)\n",
        "  x_test = scaler.transform(x_test)\n",
        "\n",
        "  models = {\"SVM\": SVC(), \"KNN\": KNeighborsClassifier(), \"Logistic Regression\": LogisticRegression(max_iter=1000)}\n",
        "\n",
        "  results=[]\n",
        "  for name, model in models.items():\n",
        "    model.fit(x_train, y_train)\n",
        "    y_pred=model.predict(x_test)\n",
        "\n",
        "    acc=accuracy_score(y_test,y_pred)\n",
        "    print(name,\" accuracy: \",round(acc,3))\n",
        "    print(classification_report(y_test, y_pred, zero_division=0))\n",
        "    results.append((dataset_name, name, acc))\n",
        "\n",
        "  return results"
      ],
      "metadata": {
        "id": "z_-G-leaoCdx"
      },
      "execution_count": 5,
      "outputs": []
    },
    {
      "cell_type": "code",
      "source": [
        "#Apply Models to Iris Dataset (Small)\n",
        "results_iris = evaluate_model(x_iris, y_iris, \"Iris\")"
      ],
      "metadata": {
        "colab": {
          "base_uri": "https://localhost:8080/"
        },
        "id": "sR8kwf8ks6pf",
        "outputId": "910f172e-4e12-4840-9ac7-07c7c8776ed7"
      },
      "execution_count": 6,
      "outputs": [
        {
          "output_type": "stream",
          "name": "stdout",
          "text": [
            "\n",
            "Evaluating on:  Iris\n",
            "SVM  accuracy:  0.967\n",
            "              precision    recall  f1-score   support\n",
            "\n",
            "           0       1.00      1.00      1.00        10\n",
            "           1       1.00      0.90      0.95        10\n",
            "           2       0.91      1.00      0.95        10\n",
            "\n",
            "    accuracy                           0.97        30\n",
            "   macro avg       0.97      0.97      0.97        30\n",
            "weighted avg       0.97      0.97      0.97        30\n",
            "\n",
            "KNN  accuracy:  0.933\n",
            "              precision    recall  f1-score   support\n",
            "\n",
            "           0       1.00      1.00      1.00        10\n",
            "           1       0.83      1.00      0.91        10\n",
            "           2       1.00      0.80      0.89        10\n",
            "\n",
            "    accuracy                           0.93        30\n",
            "   macro avg       0.94      0.93      0.93        30\n",
            "weighted avg       0.94      0.93      0.93        30\n",
            "\n",
            "Logistic Regression  accuracy:  0.933\n",
            "              precision    recall  f1-score   support\n",
            "\n",
            "           0       1.00      1.00      1.00        10\n",
            "           1       0.90      0.90      0.90        10\n",
            "           2       0.90      0.90      0.90        10\n",
            "\n",
            "    accuracy                           0.93        30\n",
            "   macro avg       0.93      0.93      0.93        30\n",
            "weighted avg       0.93      0.93      0.93        30\n",
            "\n"
          ]
        }
      ]
    },
    {
      "cell_type": "code",
      "source": [
        "#Apply Models to Breast Cancer Dataset (Intermediate)\n",
        "results_cancer = evaluate_model(x_cancer, y_cancer, \"Breast Cancer\")"
      ],
      "metadata": {
        "colab": {
          "base_uri": "https://localhost:8080/"
        },
        "id": "3dNJYyHSthCI",
        "outputId": "38e65257-0f88-4c80-e2d9-ad020f965ce8"
      },
      "execution_count": 7,
      "outputs": [
        {
          "output_type": "stream",
          "name": "stdout",
          "text": [
            "\n",
            "Evaluating on:  Breast Cancer\n",
            "SVM  accuracy:  0.982\n",
            "              precision    recall  f1-score   support\n",
            "\n",
            "           0       0.98      0.98      0.98        42\n",
            "           1       0.99      0.99      0.99        72\n",
            "\n",
            "    accuracy                           0.98       114\n",
            "   macro avg       0.98      0.98      0.98       114\n",
            "weighted avg       0.98      0.98      0.98       114\n",
            "\n",
            "KNN  accuracy:  0.956\n",
            "              precision    recall  f1-score   support\n",
            "\n",
            "           0       0.95      0.93      0.94        42\n",
            "           1       0.96      0.97      0.97        72\n",
            "\n",
            "    accuracy                           0.96       114\n",
            "   macro avg       0.96      0.95      0.95       114\n",
            "weighted avg       0.96      0.96      0.96       114\n",
            "\n",
            "Logistic Regression  accuracy:  0.982\n",
            "              precision    recall  f1-score   support\n",
            "\n",
            "           0       0.98      0.98      0.98        42\n",
            "           1       0.99      0.99      0.99        72\n",
            "\n",
            "    accuracy                           0.98       114\n",
            "   macro avg       0.98      0.98      0.98       114\n",
            "weighted avg       0.98      0.98      0.98       114\n",
            "\n"
          ]
        }
      ]
    },
    {
      "cell_type": "code",
      "source": [
        "#Apply Models to Covertype Dataset (Large)\n",
        "x_cov_sample, _, y_cov_sample, _ = train_test_split(x_cov, y_cov, train_size=20000, stratify=y_cov, random_state=42)\n",
        "results_cov = evaluate_model(x_cov_sample, y_cov_sample, \"Covertype\")"
      ],
      "metadata": {
        "colab": {
          "base_uri": "https://localhost:8080/"
        },
        "id": "7Gf04PQbttAb",
        "outputId": "4b3f6400-264a-41b5-fab6-832e278e381a"
      },
      "execution_count": 8,
      "outputs": [
        {
          "output_type": "stream",
          "name": "stdout",
          "text": [
            "\n",
            "Evaluating on:  Covertype\n",
            "SVM  accuracy:  0.747\n",
            "              precision    recall  f1-score   support\n",
            "\n",
            "           1       0.75      0.72      0.74      1458\n",
            "           2       0.76      0.83      0.79      1951\n",
            "           3       0.63      0.91      0.74       246\n",
            "           4       0.33      0.05      0.09        19\n",
            "           5       0.00      0.00      0.00        65\n",
            "           6       0.55      0.05      0.09       120\n",
            "           7       0.79      0.66      0.72       141\n",
            "\n",
            "    accuracy                           0.75      4000\n",
            "   macro avg       0.54      0.46      0.45      4000\n",
            "weighted avg       0.73      0.75      0.73      4000\n",
            "\n",
            "KNN  accuracy:  0.786\n",
            "              precision    recall  f1-score   support\n",
            "\n",
            "           1       0.79      0.77      0.78      1458\n",
            "           2       0.81      0.85      0.83      1951\n",
            "           3       0.69      0.79      0.74       246\n",
            "           4       0.31      0.21      0.25        19\n",
            "           5       0.57      0.25      0.34        65\n",
            "           6       0.58      0.43      0.50       120\n",
            "           7       0.76      0.72      0.74       141\n",
            "\n",
            "    accuracy                           0.79      4000\n",
            "   macro avg       0.64      0.57      0.60      4000\n",
            "weighted avg       0.78      0.79      0.78      4000\n",
            "\n",
            "Logistic Regression  accuracy:  0.725\n",
            "              precision    recall  f1-score   support\n",
            "\n",
            "           1       0.71      0.69      0.70      1458\n",
            "           2       0.75      0.80      0.77      1951\n",
            "           3       0.67      0.87      0.76       246\n",
            "           4       0.33      0.21      0.26        19\n",
            "           5       1.00      0.02      0.03        65\n",
            "           6       0.59      0.24      0.34       120\n",
            "           7       0.71      0.57      0.63       141\n",
            "\n",
            "    accuracy                           0.72      4000\n",
            "   macro avg       0.68      0.49      0.50      4000\n",
            "weighted avg       0.73      0.72      0.71      4000\n",
            "\n"
          ]
        }
      ]
    },
    {
      "cell_type": "code",
      "source": [
        "#Combine results from all datasets\n",
        "all_results = results_iris + results_cancer + results_cov\n",
        "\n",
        "df_results = pd.DataFrame(all_results, columns=[\"Dataset\", \"Algorithm\", \"Accuracy\"])\n",
        "print(df_results)"
      ],
      "metadata": {
        "colab": {
          "base_uri": "https://localhost:8080/"
        },
        "id": "Nftisc98u5_b",
        "outputId": "3102ef15-1814-4ab9-a14b-68b18db7aa9c"
      },
      "execution_count": 10,
      "outputs": [
        {
          "output_type": "stream",
          "name": "stdout",
          "text": [
            "         Dataset            Algorithm  Accuracy\n",
            "0           Iris                  SVM  0.966667\n",
            "1           Iris                  KNN  0.933333\n",
            "2           Iris  Logistic Regression  0.933333\n",
            "3  Breast Cancer                  SVM  0.982456\n",
            "4  Breast Cancer                  KNN  0.956140\n",
            "5  Breast Cancer  Logistic Regression  0.982456\n",
            "6      Covertype                  SVM  0.746750\n",
            "7      Covertype                  KNN  0.786000\n",
            "8      Covertype  Logistic Regression  0.724500\n"
          ]
        }
      ]
    },
    {
      "cell_type": "code",
      "source": [
        "#Plot Comparison\n",
        "plt.figure(figsize=(7, 5))\n",
        "sns.barplot(data=df_results, x=\"Dataset\", y=\"Accuracy\", hue=\"Algorithm\")\n",
        "plt.title(\"Accuracy Comparison of ML Algorithms on Different Dataset Sizes\")\n",
        "plt.ylabel(\"Accuracy Score\")\n",
        "plt.ylim(0.7, 1.0)\n",
        "plt.legend(title=\"Algorithm\")\n",
        "plt.tight_layout()\n",
        "plt.show()"
      ],
      "metadata": {
        "colab": {
          "base_uri": "https://localhost:8080/",
          "height": 507
        },
        "id": "A8tkWAvku82u",
        "outputId": "e35beeb7-812e-4ab6-ee0c-8d3d11d2ed38"
      },
      "execution_count": 12,
      "outputs": [
        {
          "output_type": "display_data",
          "data": {
            "text/plain": [
              "<Figure size 700x500 with 1 Axes>"
            ],
            "image/png": "[encoded data removed]"
          },
          "metadata": {}
        }
      ]
    }
  ]
}