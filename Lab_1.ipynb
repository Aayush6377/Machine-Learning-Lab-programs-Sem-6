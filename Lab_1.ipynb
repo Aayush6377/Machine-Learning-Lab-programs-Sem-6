{
  "nbformat": 4,
  "nbformat_minor": 0,
  "metadata": {
    "colab": {
      "provenance": [],
      "authorship_tag": "ABX9TyPevr6jGysBey7mzMW/Wdzl",
      "include_colab_link": true
    },
    "kernelspec": {
      "name": "python3",
      "display_name": "Python 3"
    },
    "language_info": {
      "name": "python"
    }
  },
  "cells": [
    {
      "cell_type": "markdown",
      "metadata": {
        "id": "view-in-github",
        "colab_type": "text"
      },
      "source": [
        "<a href=\"https://colab.research.google.com/github/Aayush6377/Machine-Learning-Lab-programs-Sem-6/blob/main/Lab_1.ipynb\" target=\"_parent\"><img src=\"https://colab.research.google.com/assets/colab-badge.svg\" alt=\"Open In Colab\"/></a>"
      ]
    },
    {
      "cell_type": "markdown",
      "source": [
        "## **Experiment 1. Experiment with Following Pandas Operations through Python Commands**"
      ],
      "metadata": {
        "id": "0luaUaBX7K1j"
      }
    },
    {
      "cell_type": "markdown",
      "source": [
        "### 1.1 Introduction to Pandas"
      ],
      "metadata": {
        "id": "MG_nvN4b7aGj"
      }
    },
    {
      "cell_type": "code",
      "execution_count": 1,
      "metadata": {
        "id": "PerxXrWE6-vU"
      },
      "outputs": [],
      "source": [
        "import numpy as np\n",
        "import pandas as pd"
      ]
    },
    {
      "cell_type": "code",
      "source": [
        "#Creating a empty Series\n",
        "s1=pd.Series()\n",
        "print(s1)"
      ],
      "metadata": {
        "colab": {
          "base_uri": "https://localhost:8080/"
        },
        "id": "jjBAp72w0Pkk",
        "outputId": "f4ab3bf2-ac44-4a7c-d948-18e2fc5f6176"
      },
      "execution_count": 2,
      "outputs": [
        {
          "output_type": "stream",
          "name": "stdout",
          "text": [
            "Series([], dtype: object)\n"
          ]
        }
      ]
    },
    {
      "cell_type": "code",
      "source": [
        "#Creating Series from a list\n",
        "s2=pd.Series([1,2,3,4,5,6,7],name=\"Numbers\",index=range(1,8))\n",
        "print(s2)"
      ],
      "metadata": {
        "colab": {
          "base_uri": "https://localhost:8080/"
        },
        "id": "20M69CCv1A7X",
        "outputId": "76e6fbe5-513a-4c25-8e32-818dfdf31e26"
      },
      "execution_count": 3,
      "outputs": [
        {
          "output_type": "stream",
          "name": "stdout",
          "text": [
            "1    1\n",
            "2    2\n",
            "3    3\n",
            "4    4\n",
            "5    5\n",
            "6    6\n",
            "7    7\n",
            "Name: Numbers, dtype: int64\n"
          ]
        }
      ]
    },
    {
      "cell_type": "code",
      "source": [
        "#Creating Series from Numpy array\n",
        "arr=np.array([\"Aayush\",\"Arpit\",\"Vinayak\",\"Sankit\"]);\n",
        "s3=pd.Series(arr)\n",
        "print(s3)"
      ],
      "metadata": {
        "colab": {
          "base_uri": "https://localhost:8080/"
        },
        "id": "K07VCUmH1XXk",
        "outputId": "537ac8e5-a60e-4fc1-8712-32255945d5f8"
      },
      "execution_count": 5,
      "outputs": [
        {
          "output_type": "stream",
          "name": "stdout",
          "text": [
            "0     Aayush\n",
            "1      Arpit\n",
            "2    Vinayak\n",
            "3     Sankit\n",
            "dtype: object\n"
          ]
        }
      ]
    },
    {
      "cell_type": "code",
      "source": [
        "#Creating Series from Dictionary\n",
        "dic={'A':1,'B':2,'C':3,'D':4,'E':5}\n",
        "s4=pd.Series(dic)\n",
        "print(s4)"
      ],
      "metadata": {
        "colab": {
          "base_uri": "https://localhost:8080/"
        },
        "id": "rue_25Ti13fy",
        "outputId": "67ca558a-fe7a-4e4b-ed46-66b257cb7c28"
      },
      "execution_count": 7,
      "outputs": [
        {
          "output_type": "stream",
          "name": "stdout",
          "text": [
            "A    1\n",
            "B    2\n",
            "C    3\n",
            "D    4\n",
            "E    5\n",
            "dtype: int64\n"
          ]
        }
      ]
    },
    {
      "cell_type": "code",
      "source": [
        "#Creating a empty DataFrame\n",
        "d1=pd.DataFrame()\n",
        "print(d1)"
      ],
      "metadata": {
        "colab": {
          "base_uri": "https://localhost:8080/"
        },
        "id": "sndR5XA-2u-O",
        "outputId": "5c6628b2-92b2-4191-aa14-d6e1ab5c176b"
      },
      "execution_count": 8,
      "outputs": [
        {
          "output_type": "stream",
          "name": "stdout",
          "text": [
            "Empty DataFrame\n",
            "Columns: []\n",
            "Index: []\n"
          ]
        }
      ]
    },
    {
      "cell_type": "code",
      "source": [
        "#Creating DataFrame using List\n",
        "d2=pd.DataFrame([x for x in \"ABCDEFGH\"])\n",
        "print(d2)"
      ],
      "metadata": {
        "colab": {
          "base_uri": "https://localhost:8080/"
        },
        "id": "ijmB0k3N27UM",
        "outputId": "fb061bca-8aa4-4a60-ae59-8dccf2e0c43f"
      },
      "execution_count": 9,
      "outputs": [
        {
          "output_type": "stream",
          "name": "stdout",
          "text": [
            "   0\n",
            "0  A\n",
            "1  B\n",
            "2  C\n",
            "3  D\n",
            "4  E\n",
            "5  F\n",
            "6  G\n",
            "7  H\n"
          ]
        }
      ]
    },
    {
      "cell_type": "code",
      "source": [
        "#Creating DataFrame using Dictionary\n",
        "dic={'Name':['Aayush','Arpit','Vinayak','Kirti'],'Class':['6C1','6B2','6B1','5C2'],'Marks':[67,89,92,56]}\n",
        "d3=pd.DataFrame(dic)\n",
        "print(d3)"
      ],
      "metadata": {
        "colab": {
          "base_uri": "https://localhost:8080/"
        },
        "id": "5a3HNAH73bAz",
        "outputId": "4a0eeb72-3770-4e94-ebb1-8a6a638d10a2"
      },
      "execution_count": 10,
      "outputs": [
        {
          "output_type": "stream",
          "name": "stdout",
          "text": [
            "      Name Class  Marks\n",
            "0   Aayush   6C1     67\n",
            "1    Arpit   6B2     89\n",
            "2  Vinayak   6B1     92\n",
            "3    Kirti   5C2     56\n"
          ]
        }
      ]
    },
    {
      "cell_type": "markdown",
      "source": [
        "### 1.2 Data Selection and Indexing"
      ],
      "metadata": {
        "id": "esM2TWIz-5YL"
      }
    },
    {
      "cell_type": "code",
      "source": [
        "#Accessing Columns\n",
        "print(d3[[\"Name\",\"Marks\"]])"
      ],
      "metadata": {
        "colab": {
          "base_uri": "https://localhost:8080/"
        },
        "id": "xsruHpOh3-sf",
        "outputId": "e4c22d3b-7c10-4376-dc89-d2fafb8e0340"
      },
      "execution_count": 11,
      "outputs": [
        {
          "output_type": "stream",
          "name": "stdout",
          "text": [
            "      Name  Marks\n",
            "0   Aayush     67\n",
            "1    Arpit     89\n",
            "2  Vinayak     92\n",
            "3    Kirti     56\n"
          ]
        }
      ]
    },
    {
      "cell_type": "code",
      "source": [
        "#Accessing Rows Using loc function\n",
        "print(d3.loc[2,:])"
      ],
      "metadata": {
        "colab": {
          "base_uri": "https://localhost:8080/"
        },
        "id": "3FRnYwv-4qi1",
        "outputId": "d3777edd-4dfa-4917-b5d2-c2fb8843d9fd"
      },
      "execution_count": 12,
      "outputs": [
        {
          "output_type": "stream",
          "name": "stdout",
          "text": [
            "Name     Vinayak\n",
            "Class        6B1\n",
            "Marks         92\n",
            "Name: 2, dtype: object\n"
          ]
        }
      ]
    },
    {
      "cell_type": "code",
      "source": [
        "#Accessing Rows Using iloc function\n",
        "print(d3.iloc[1,:])"
      ],
      "metadata": {
        "colab": {
          "base_uri": "https://localhost:8080/"
        },
        "id": "EQJjkQjX48e7",
        "outputId": "877337a0-da1a-4e3d-f138-d229114de9fe"
      },
      "execution_count": 13,
      "outputs": [
        {
          "output_type": "stream",
          "name": "stdout",
          "text": [
            "Name     Arpit\n",
            "Class      6B2\n",
            "Marks       89\n",
            "Name: 1, dtype: object\n"
          ]
        }
      ]
    },
    {
      "cell_type": "code",
      "source": [
        "#Accessing Subsets of Data using loc function\n",
        "print(d3.loc[[2,3],[\"Name\",\"Marks\"]])"
      ],
      "metadata": {
        "colab": {
          "base_uri": "https://localhost:8080/"
        },
        "id": "ju6-v0hi5JkY",
        "outputId": "7394fc5c-d6d5-45da-f641-4452ed51995f"
      },
      "execution_count": 14,
      "outputs": [
        {
          "output_type": "stream",
          "name": "stdout",
          "text": [
            "      Name  Marks\n",
            "2  Vinayak     92\n",
            "3    Kirti     56\n"
          ]
        }
      ]
    },
    {
      "cell_type": "code",
      "source": [
        "#Accessing Subsets of Data using iloc function\n",
        "print(d3.iloc[1:,0])"
      ],
      "metadata": {
        "colab": {
          "base_uri": "https://localhost:8080/"
        },
        "id": "X7AZB-Mi5ij4",
        "outputId": "0539d7d1-8c5a-4520-c262-2e5674042c66"
      },
      "execution_count": 15,
      "outputs": [
        {
          "output_type": "stream",
          "name": "stdout",
          "text": [
            "1      Arpit\n",
            "2    Vinayak\n",
            "3      Kirti\n",
            "Name: Name, dtype: object\n"
          ]
        }
      ]
    },
    {
      "cell_type": "markdown",
      "source": [
        "### 1.3 Data Cleaning and Preprocessing"
      ],
      "metadata": {
        "id": "nEEsMZ3PEtT_"
      }
    },
    {
      "cell_type": "code",
      "source": [
        "#DataFrame containg Null Values\n",
        "dic={\n",
        "    \"Name\":[\"Aayush\",\"Arpit\",\"Sankit\",\"Vinayak\",\"Kirti\"],\n",
        "    \"Roll no\":[159,121,131,158,189],\n",
        "    \"Class\":[\"6CSC\",\"6CSB\",\"6CSA\",np.nan,np.nan],\n",
        "    \"Marks\":[98,78,56,np.nan,np.nan],\n",
        "    \"Age\":[np.nan,22,np.nan,25,26]\n",
        "}\n",
        "d4=pd.DataFrame(dic)\n",
        "print(d4)"
      ],
      "metadata": {
        "colab": {
          "base_uri": "https://localhost:8080/"
        },
        "id": "raM9_Y0z6z_N",
        "outputId": "e2657e2d-0a2b-444e-82aa-4a488e98b934"
      },
      "execution_count": 19,
      "outputs": [
        {
          "output_type": "stream",
          "name": "stdout",
          "text": [
            "      Name  Roll no Class  Marks   Age\n",
            "0   Aayush      159  6CSC   98.0   NaN\n",
            "1    Arpit      121  6CSB   78.0  22.0\n",
            "2   Sankit      131  6CSA   56.0   NaN\n",
            "3  Vinayak      158   NaN    NaN  25.0\n",
            "4    Kirti      189   NaN    NaN  26.0\n"
          ]
        }
      ]
    },
    {
      "cell_type": "code",
      "source": [
        "#Check for missing values in the DataFrame\n",
        "print(d4.isnull())"
      ],
      "metadata": {
        "colab": {
          "base_uri": "https://localhost:8080/"
        },
        "id": "OgSt00DN71K_",
        "outputId": "3a0edc7f-4695-41c0-e3b7-47712008cc8c"
      },
      "execution_count": 20,
      "outputs": [
        {
          "output_type": "stream",
          "name": "stdout",
          "text": [
            "    Name  Roll no  Class  Marks    Age\n",
            "0  False    False  False  False   True\n",
            "1  False    False  False  False  False\n",
            "2  False    False  False  False   True\n",
            "3  False    False   True   True  False\n",
            "4  False    False   True   True  False\n"
          ]
        }
      ]
    },
    {
      "cell_type": "code",
      "source": [
        "#Count the number of missing values in each column\n",
        "print(d4.isnull().sum())"
      ],
      "metadata": {
        "colab": {
          "base_uri": "https://localhost:8080/"
        },
        "id": "BGF1kzTM8CkT",
        "outputId": "18e36e0c-aed0-4dfc-cf85-e5f7cb5c6ad6"
      },
      "execution_count": 21,
      "outputs": [
        {
          "output_type": "stream",
          "name": "stdout",
          "text": [
            "Name       0\n",
            "Roll no    0\n",
            "Class      2\n",
            "Marks      2\n",
            "Age        2\n",
            "dtype: int64\n"
          ]
        }
      ]
    },
    {
      "cell_type": "code",
      "source": [
        "#Drop rows with any missing values\n",
        "print(d4.dropna())"
      ],
      "metadata": {
        "colab": {
          "base_uri": "https://localhost:8080/"
        },
        "id": "bRWSgVVE8Qkr",
        "outputId": "86d7bed3-6560-4404-dc03-98613d4e0aad"
      },
      "execution_count": 22,
      "outputs": [
        {
          "output_type": "stream",
          "name": "stdout",
          "text": [
            "    Name  Roll no Class  Marks   Age\n",
            "1  Arpit      121  6CSB   78.0  22.0\n"
          ]
        }
      ]
    },
    {
      "cell_type": "code",
      "source": [
        "#Drop columns with any missing values\n",
        "print(d4.dropna(axis=1))"
      ],
      "metadata": {
        "colab": {
          "base_uri": "https://localhost:8080/"
        },
        "id": "kyWaomvC8547",
        "outputId": "96ee8381-165c-4fed-ebdc-1cdc734e5920"
      },
      "execution_count": 23,
      "outputs": [
        {
          "output_type": "stream",
          "name": "stdout",
          "text": [
            "      Name  Roll no\n",
            "0   Aayush      159\n",
            "1    Arpit      121\n",
            "2   Sankit      131\n",
            "3  Vinayak      158\n",
            "4    Kirti      189\n"
          ]
        }
      ]
    },
    {
      "cell_type": "code",
      "source": [
        "#Fill missing values using fillna() function\n",
        "print(d4.fillna(\"N/A\"))"
      ],
      "metadata": {
        "colab": {
          "base_uri": "https://localhost:8080/"
        },
        "id": "OCpHZYGu9BfB",
        "outputId": "6fc270a2-f7b7-4106-a3d0-674c8659894f"
      },
      "execution_count": 25,
      "outputs": [
        {
          "output_type": "stream",
          "name": "stdout",
          "text": [
            "      Name  Roll no Class Marks   Age\n",
            "0   Aayush      159  6CSC  98.0   N/A\n",
            "1    Arpit      121  6CSB  78.0  22.0\n",
            "2   Sankit      131  6CSA  56.0   N/A\n",
            "3  Vinayak      158   N/A   N/A  25.0\n",
            "4    Kirti      189   N/A   N/A  26.0\n"
          ]
        }
      ]
    },
    {
      "cell_type": "code",
      "source": [
        "#Fill missing values to a particular column\n",
        "print(d4[\"Age\"].fillna(round(d4[\"Age\"].mean())))"
      ],
      "metadata": {
        "colab": {
          "base_uri": "https://localhost:8080/"
        },
        "id": "aw3w89yS9tI2",
        "outputId": "97c0402e-e839-413d-95be-bc62d9cabb79"
      },
      "execution_count": 28,
      "outputs": [
        {
          "output_type": "stream",
          "name": "stdout",
          "text": [
            "0    24.0\n",
            "1    22.0\n",
            "2    24.0\n",
            "3    25.0\n",
            "4    26.0\n",
            "Name: Age, dtype: float64\n"
          ]
        }
      ]
    },
    {
      "cell_type": "code",
      "source": [
        "#Fill missing values using Forward fill method\n",
        "temp=d4.ffill()\n",
        "print(temp)"
      ],
      "metadata": {
        "colab": {
          "base_uri": "https://localhost:8080/"
        },
        "id": "Q9WT_LVg-g8J",
        "outputId": "a445d720-0b64-4147-c4a4-572bbb1150ed"
      },
      "execution_count": 32,
      "outputs": [
        {
          "output_type": "stream",
          "name": "stdout",
          "text": [
            "      Name  Roll no Class  Marks   Age\n",
            "0   Aayush      159  6CSC   98.0   NaN\n",
            "1    Arpit      121  6CSB   78.0  22.0\n",
            "2   Sankit      131  6CSA   56.0  22.0\n",
            "3  Vinayak      158  6CSA   56.0  25.0\n",
            "4    Kirti      189  6CSA   56.0  26.0\n"
          ]
        }
      ]
    },
    {
      "cell_type": "code",
      "source": [
        "#Fill missing values using Backward fill method\n",
        "temp=d4.bfill()\n",
        "print(temp)"
      ],
      "metadata": {
        "colab": {
          "base_uri": "https://localhost:8080/"
        },
        "id": "FOEMPkIO_Fta",
        "outputId": "01bfd1be-92b3-42da-9f7a-1d277041faf9"
      },
      "execution_count": 31,
      "outputs": [
        {
          "output_type": "stream",
          "name": "stdout",
          "text": [
            "      Name  Roll no Class  Marks   Age\n",
            "0   Aayush      159  6CSC   98.0  22.0\n",
            "1    Arpit      121  6CSB   78.0  22.0\n",
            "2   Sankit      131  6CSA   56.0  25.0\n",
            "3  Vinayak      158   NaN    NaN  25.0\n",
            "4    Kirti      189   NaN    NaN  26.0\n"
          ]
        }
      ]
    },
    {
      "cell_type": "markdown",
      "source": [
        "### 1.4 Aggregation and Grouping"
      ],
      "metadata": {
        "id": "z3oyE7QdJQnX"
      }
    },
    {
      "cell_type": "code",
      "source": [
        "#Creating a DataFrame\n",
        "data = {\n",
        "    \"Department\": [\"HR\", \"Finance\", \"HR\", \"IT\", \"Finance\", \"IT\", \"HR\", \"Finance\"],\n",
        "    \"Employee\": [\"Alice\", \"Bob\", \"Charlie\", \"David\", \"Eve\", \"Frank\", \"Grace\", \"Hannah\"],\n",
        "    \"Salary\": [50000, 60000, 52000, 70000, 62000, 72000, 51000, 61000],\n",
        "    \"Bonus\": [5000, 6000, 5200, 7000, 6200, 7200, 5100, 6100],\n",
        "    \"Year\": [2, 5, 3, 8, 6, 9, 1, 4]\n",
        "}\n",
        "d5=pd.DataFrame(data)\n",
        "print(d5)"
      ],
      "metadata": {
        "colab": {
          "base_uri": "https://localhost:8080/"
        },
        "id": "xcaenxaGJUMb",
        "outputId": "c93dad0c-3e08-42ad-bf0c-2681f2954951"
      },
      "execution_count": 40,
      "outputs": [
        {
          "output_type": "stream",
          "name": "stdout",
          "text": [
            "  Department Employee  Salary  Bonus  Year\n",
            "0         HR    Alice   50000   5000     2\n",
            "1    Finance      Bob   60000   6000     5\n",
            "2         HR  Charlie   52000   5200     3\n",
            "3         IT    David   70000   7000     8\n",
            "4    Finance      Eve   62000   6200     6\n",
            "5         IT    Frank   72000   7200     9\n",
            "6         HR    Grace   51000   5100     1\n",
            "7    Finance   Hannah   61000   6100     4\n"
          ]
        }
      ]
    },
    {
      "cell_type": "code",
      "source": [
        "#Grouping using groupby() function and calculating mean\n",
        "print(d5.groupby(\"Department\")[[\"Salary\",\"Bonus\"]].mean())"
      ],
      "metadata": {
        "colab": {
          "base_uri": "https://localhost:8080/"
        },
        "id": "ltRamVWFBBfU",
        "outputId": "266cb221-d702-4fe2-ff87-90949508e94f"
      },
      "execution_count": 44,
      "outputs": [
        {
          "output_type": "stream",
          "name": "stdout",
          "text": [
            "             Salary   Bonus\n",
            "Department                 \n",
            "Finance     61000.0  6100.0\n",
            "HR          51000.0  5100.0\n",
            "IT          71000.0  7100.0\n"
          ]
        }
      ]
    },
    {
      "cell_type": "code",
      "source": [
        "#Grouping multiple columns and calculating median\n",
        "print(d5.groupby([\"Department\",\"Year\"])[[\"Salary\",\"Bonus\"]].median())"
      ],
      "metadata": {
        "colab": {
          "base_uri": "https://localhost:8080/"
        },
        "id": "zwXpn56KCM8B",
        "outputId": "d9da1c0f-1e70-4c5c-e590-884c5d880405"
      },
      "execution_count": 48,
      "outputs": [
        {
          "output_type": "stream",
          "name": "stdout",
          "text": [
            "                  Salary   Bonus\n",
            "Department Year                 \n",
            "Finance    4     61000.0  6100.0\n",
            "           5     60000.0  6000.0\n",
            "           6     62000.0  6200.0\n",
            "HR         1     51000.0  5100.0\n",
            "           2     50000.0  5000.0\n",
            "           3     52000.0  5200.0\n",
            "IT         8     70000.0  7000.0\n",
            "           9     72000.0  7200.0\n"
          ]
        }
      ]
    },
    {
      "cell_type": "code",
      "source": [
        "#Applying multiple aggregate functions\n",
        "print(d5.groupby(\"Department\")[[\"Salary\",\"Bonus\"]].agg([\"sum\",\"min\",\"max\",\"count\"]))"
      ],
      "metadata": {
        "colab": {
          "base_uri": "https://localhost:8080/"
        },
        "id": "G2xHsoGLDdzl",
        "outputId": "4e6e180a-eeb3-4257-ca5d-07d52209e4b1"
      },
      "execution_count": 51,
      "outputs": [
        {
          "output_type": "stream",
          "name": "stdout",
          "text": [
            "            Salary                      Bonus                  \n",
            "               sum    min    max count    sum   min   max count\n",
            "Department                                                     \n",
            "Finance     183000  60000  62000     3  18300  6000  6200     3\n",
            "HR          153000  50000  52000     3  15300  5000  5200     3\n",
            "IT          142000  70000  72000     2  14200  7000  7200     2\n"
          ]
        }
      ]
    },
    {
      "cell_type": "code",
      "source": [
        "#Multiple columns with different aggregate functions\n",
        "print(d5.groupby(\"Department\").agg({\"Salary\":\"mean\",\"Bonus\":\"max\"}))"
      ],
      "metadata": {
        "colab": {
          "base_uri": "https://localhost:8080/"
        },
        "id": "p4KC3uyxERZC",
        "outputId": "79151d1d-0269-4c8d-9817-f920bb29210b"
      },
      "execution_count": 53,
      "outputs": [
        {
          "output_type": "stream",
          "name": "stdout",
          "text": [
            "             Salary  Bonus\n",
            "Department                \n",
            "Finance     61000.0   6200\n",
            "HR          51000.0   5200\n",
            "IT          71000.0   7200\n"
          ]
        }
      ]
    },
    {
      "cell_type": "code",
      "source": [
        "#Applying transform() function\n",
        "print(d5.groupby(\"Department\")[[\"Salary\",\"Bonus\"]].transform(\"mean\"))"
      ],
      "metadata": {
        "colab": {
          "base_uri": "https://localhost:8080/"
        },
        "id": "7watag-BFJLt",
        "outputId": "31eb2f44-113f-4a96-a9bd-61e3db5482dc"
      },
      "execution_count": 79,
      "outputs": [
        {
          "output_type": "stream",
          "name": "stdout",
          "text": [
            "    Salary   Bonus\n",
            "0  51000.0  5100.0\n",
            "1  61000.0  6100.0\n",
            "2  51000.0  5100.0\n",
            "3  71000.0  7100.0\n",
            "4  61000.0  6100.0\n",
            "5  71000.0  7100.0\n",
            "6  51000.0  5100.0\n",
            "7  61000.0  6100.0\n"
          ]
        }
      ]
    },
    {
      "cell_type": "markdown",
      "source": [
        "### 1.5 Data Merging and Joining"
      ],
      "metadata": {
        "id": "_RhPoU-kGXTR"
      }
    },
    {
      "cell_type": "code",
      "source": [
        "#Creating DataFrames\n",
        "emp = pd.DataFrame({\n",
        "    \"ID\": [101, 102, 103, 104],\n",
        "    \"Name\": [\"Alice\", \"Bob\", \"Charlie\", \"David\"],\n",
        "    \"Department\": [\"HR\", \"Finance\", \"IT\", \"HR\"]\n",
        "})\n",
        "\n",
        "sal = pd.DataFrame({\n",
        "    \"ID\": [101, 102, 103, 105],\n",
        "    \"Salary\": [50000, 60000, 70000, 80000]\n",
        "})\n",
        "\n",
        "emp2 = pd.DataFrame({\n",
        "    \"ID\": [105, 106],\n",
        "    \"Name\": [\"Eve\", \"Frank\"],\n",
        "    \"Department\": [\"IT\", \"Finance\"]\n",
        "})\n",
        "print(\"Employees DataFrame:\\n\", emp)\n",
        "print(\"\\nSalaries DataFrame:\\n\", sal)\n",
        "print(\"\\nEmployees 2 DataFrame:\\n\", emp2)"
      ],
      "metadata": {
        "colab": {
          "base_uri": "https://localhost:8080/"
        },
        "id": "8BtYUPTLG-N_",
        "outputId": "66ee4949-7136-4100-d3eb-d6cc8fd0ad87"
      },
      "execution_count": 98,
      "outputs": [
        {
          "output_type": "stream",
          "name": "stdout",
          "text": [
            "Employees DataFrame:\n",
            "     ID     Name Department\n",
            "0  101    Alice         HR\n",
            "1  102      Bob    Finance\n",
            "2  103  Charlie         IT\n",
            "3  104    David         HR\n",
            "\n",
            "Salaries DataFrame:\n",
            "     ID  Salary\n",
            "0  101   50000\n",
            "1  102   60000\n",
            "2  103   70000\n",
            "3  105   80000\n",
            "\n",
            "Employees 2 DataFrame:\n",
            "     ID   Name Department\n",
            "0  105    Eve         IT\n",
            "1  106  Frank    Finance\n"
          ]
        }
      ]
    },
    {
      "cell_type": "code",
      "source": [
        "#Inner Join using merge() function\n",
        "inner=pd.merge(emp,sal,on=\"ID\",how=\"inner\")\n",
        "print(inner)"
      ],
      "metadata": {
        "colab": {
          "base_uri": "https://localhost:8080/"
        },
        "id": "HxOD_gMTHdB9",
        "outputId": "49952c41-1724-474f-8d90-3f345da07326"
      },
      "execution_count": 92,
      "outputs": [
        {
          "output_type": "stream",
          "name": "stdout",
          "text": [
            "    ID     Name Department  Salary\n",
            "0  101    Alice         HR   50000\n",
            "1  102      Bob    Finance   60000\n",
            "2  103  Charlie         IT   70000\n"
          ]
        }
      ]
    },
    {
      "cell_type": "code",
      "source": [
        "#Outer Join using merge() function\n",
        "outer=pd.merge(emp,sal,on=\"ID\",how=\"outer\")\n",
        "print(outer)"
      ],
      "metadata": {
        "colab": {
          "base_uri": "https://localhost:8080/"
        },
        "id": "-_Su51M1H34Y",
        "outputId": "3e6f7a06-1222-46bc-a4bd-2588af68fe09"
      },
      "execution_count": 63,
      "outputs": [
        {
          "output_type": "stream",
          "name": "stdout",
          "text": [
            "    ID     Name Department   Salary\n",
            "0  101    Alice         HR  50000.0\n",
            "1  102      Bob    Finance  60000.0\n",
            "2  103  Charlie         IT  70000.0\n",
            "3  104    David         HR      NaN\n",
            "4  105      NaN        NaN  80000.0\n"
          ]
        }
      ]
    },
    {
      "cell_type": "code",
      "source": [
        "#Left Join using merge() function\n",
        "left=pd.merge(emp,sal,on=\"ID\",how=\"left\")\n",
        "print(left)"
      ],
      "metadata": {
        "colab": {
          "base_uri": "https://localhost:8080/"
        },
        "id": "PhKcPoUbIYEY",
        "outputId": "198e0014-c907-4f09-bd34-88be8daaff84"
      },
      "execution_count": 64,
      "outputs": [
        {
          "output_type": "stream",
          "name": "stdout",
          "text": [
            "    ID     Name Department   Salary\n",
            "0  101    Alice         HR  50000.0\n",
            "1  102      Bob    Finance  60000.0\n",
            "2  103  Charlie         IT  70000.0\n",
            "3  104    David         HR      NaN\n"
          ]
        }
      ]
    },
    {
      "cell_type": "code",
      "source": [
        "#Right Join using merge() function\n",
        "right=pd.merge(emp,sal,on=\"ID\",how=\"right\")\n",
        "print(right)"
      ],
      "metadata": {
        "colab": {
          "base_uri": "https://localhost:8080/"
        },
        "id": "7Bmh6c0GIlrZ",
        "outputId": "1dbe2c2e-41d5-48c4-be26-4b143a5ea92a"
      },
      "execution_count": 65,
      "outputs": [
        {
          "output_type": "stream",
          "name": "stdout",
          "text": [
            "    ID     Name Department  Salary\n",
            "0  101    Alice         HR   50000\n",
            "1  102      Bob    Finance   60000\n",
            "2  103  Charlie         IT   70000\n",
            "3  105      NaN        NaN   80000\n"
          ]
        }
      ]
    },
    {
      "cell_type": "code",
      "source": [
        "#Joining DataFrames using join() function\n",
        "joined = emp.join(sal, how=\"outer\", lsuffix=\"_emp\", rsuffix=\"_sal\")\n",
        "print(joined)"
      ],
      "metadata": {
        "colab": {
          "base_uri": "https://localhost:8080/"
        },
        "id": "vXIsSQdJI5kQ",
        "outputId": "98fac17d-8ca9-4377-c7cd-05d4c253e692"
      },
      "execution_count": 102,
      "outputs": [
        {
          "output_type": "stream",
          "name": "stdout",
          "text": [
            "   ID_emp     Name Department  ID_sal  Salary\n",
            "0     101    Alice         HR     101   50000\n",
            "1     102      Bob    Finance     102   60000\n",
            "2     103  Charlie         IT     103   70000\n",
            "3     104    David         HR     105   80000\n"
          ]
        }
      ]
    },
    {
      "cell_type": "code",
      "source": [
        "#Concatinating DataFrames using concat() function\n",
        "con=pd.concat([emp,emp2],ignore_index=True)\n",
        "print(con)"
      ],
      "metadata": {
        "colab": {
          "base_uri": "https://localhost:8080/"
        },
        "id": "Q4rX8f5NOCeh",
        "outputId": "4e85fd54-7155-4685-cb08-ba69df037fa7"
      },
      "execution_count": 96,
      "outputs": [
        {
          "output_type": "stream",
          "name": "stdout",
          "text": [
            "    ID     Name Department\n",
            "0  101    Alice         HR\n",
            "1  102      Bob    Finance\n",
            "2  103  Charlie         IT\n",
            "3  104    David         HR\n",
            "4  105      Eve         IT\n",
            "5  106    Frank    Finance\n"
          ]
        }
      ]
    },
    {
      "cell_type": "code",
      "source": [
        "#Concatinating DataFrames side by side\n",
        "con2=pd.concat([emp,emp2],axis=1)\n",
        "print(con2)"
      ],
      "metadata": {
        "colab": {
          "base_uri": "https://localhost:8080/"
        },
        "id": "uVji7W25PR6e",
        "outputId": "193f3ef2-949c-4369-cbb2-8deda9cfb147"
      },
      "execution_count": 100,
      "outputs": [
        {
          "output_type": "stream",
          "name": "stdout",
          "text": [
            "    ID     Name Department     ID   Name Department\n",
            "0  101    Alice         HR  105.0    Eve         IT\n",
            "1  102      Bob    Finance  106.0  Frank    Finance\n",
            "2  103  Charlie         IT    NaN    NaN        NaN\n",
            "3  104    David         HR    NaN    NaN        NaN\n"
          ]
        }
      ]
    },
    {
      "cell_type": "markdown",
      "source": [
        "### 1.6 Filtering and Sorting"
      ],
      "metadata": {
        "id": "Dx0J1OOOQP-Z"
      }
    },
    {
      "cell_type": "code",
      "source": [
        "#Filter Rows Based on a Single Condition\n",
        "print(d5[d5[\"Bonus\"]>6000])"
      ],
      "metadata": {
        "colab": {
          "base_uri": "https://localhost:8080/"
        },
        "id": "PYdyWyQ4QR_q",
        "outputId": "566a6971-3144-4ba9-a11b-e690b29a043c"
      },
      "execution_count": 106,
      "outputs": [
        {
          "output_type": "stream",
          "name": "stdout",
          "text": [
            "  Department Employee  Salary  Bonus  Year\n",
            "3         IT    David   70000   7000     8\n",
            "4    Finance      Eve   62000   6200     6\n",
            "5         IT    Frank   72000   7200     9\n",
            "7    Finance   Hannah   61000   6100     4\n"
          ]
        }
      ]
    },
    {
      "cell_type": "code",
      "source": [
        "#Filter Rows Based on Multiple Conditions\n",
        "print(d5[(d5[\"Bonus\"]>6000) & (d5[\"Department\"]==\"IT\")])"
      ],
      "metadata": {
        "colab": {
          "base_uri": "https://localhost:8080/"
        },
        "id": "b9VO0IvaRGwt",
        "outputId": "0f72d044-63e5-4e27-f8aa-76516f74f1c4"
      },
      "execution_count": 109,
      "outputs": [
        {
          "output_type": "stream",
          "name": "stdout",
          "text": [
            "  Department Employee  Salary  Bonus  Year\n",
            "3         IT    David   70000   7000     8\n",
            "5         IT    Frank   72000   7200     9\n"
          ]
        }
      ]
    },
    {
      "cell_type": "code",
      "source": [
        "#Filter Rows Using isin() function\n",
        "print(d5[d5[\"Department\"].isin([\"IT\",\"HR\"])])"
      ],
      "metadata": {
        "colab": {
          "base_uri": "https://localhost:8080/"
        },
        "id": "37ugRC5PR8Bh",
        "outputId": "4ef694fd-9772-46ad-b7fc-d8b92903195a"
      },
      "execution_count": 110,
      "outputs": [
        {
          "output_type": "stream",
          "name": "stdout",
          "text": [
            "  Department Employee  Salary  Bonus  Year\n",
            "0         HR    Alice   50000   5000     2\n",
            "2         HR  Charlie   52000   5200     3\n",
            "3         IT    David   70000   7000     8\n",
            "5         IT    Frank   72000   7200     9\n",
            "6         HR    Grace   51000   5100     1\n"
          ]
        }
      ]
    },
    {
      "cell_type": "code",
      "source": [
        "#Sort by a Single Column\n",
        "print(d5.sort_values(by=\"Salary\"))"
      ],
      "metadata": {
        "colab": {
          "base_uri": "https://localhost:8080/"
        },
        "id": "9affo4pISeHB",
        "outputId": "6ae333a5-eb72-4579-cd79-11acff437bb0"
      },
      "execution_count": 148,
      "outputs": [
        {
          "output_type": "stream",
          "name": "stdout",
          "text": [
            "  Department Employee  Salary  Bonus  Year\n",
            "0         HR    Alice   50000   5000     2\n",
            "6         HR    Grace   51000   5100     1\n",
            "2         HR  Charlie   52000   5200     3\n",
            "1    Finance      Bob   60000   6000     5\n",
            "7    Finance   Hannah   61000   6100     4\n",
            "4    Finance      Eve   62000   6200     6\n",
            "3         IT    David   70000   7000     8\n",
            "5         IT    Frank   72000   7200     9\n"
          ]
        }
      ]
    },
    {
      "cell_type": "code",
      "source": [
        "#Sort by Multiple Columns\n",
        "print(d5.sort_values(by=[\"Department\",\"Bonus\"],ascending=[True,False]))"
      ],
      "metadata": {
        "colab": {
          "base_uri": "https://localhost:8080/"
        },
        "id": "iPlfBxCkTa2N",
        "outputId": "1a70894d-1ef8-4a3d-a4ca-05449b1e6ba1"
      },
      "execution_count": 119,
      "outputs": [
        {
          "output_type": "stream",
          "name": "stdout",
          "text": [
            "  Department Employee  Salary  Bonus  Year\n",
            "4    Finance      Eve   62000   6200     6\n",
            "7    Finance   Hannah   61000   6100     4\n",
            "1    Finance      Bob   60000   6000     5\n",
            "2         HR  Charlie   52000   5200     3\n",
            "6         HR    Grace   51000   5100     1\n",
            "0         HR    Alice   50000   5000     2\n",
            "5         IT    Frank   72000   7200     9\n",
            "3         IT    David   70000   7000     8\n"
          ]
        }
      ]
    },
    {
      "cell_type": "markdown",
      "source": [
        "### 1.7 Handling CSV and Excel Files"
      ],
      "metadata": {
        "id": "bSLcajWYT8dO"
      }
    },
    {
      "cell_type": "code",
      "source": [
        "#Save the DataFrame to a CSV file\n",
        "d5.to_csv(\"example.csv\",index=False)"
      ],
      "metadata": {
        "id": "7VVGk6yfUBJe"
      },
      "execution_count": 124,
      "outputs": []
    },
    {
      "cell_type": "code",
      "source": [
        "#Reading from CSV file\n",
        "d6=pd.read_csv(\"CSV_sample.csv\")\n",
        "print(d6.iloc[:5,:4])"
      ],
      "metadata": {
        "colab": {
          "base_uri": "https://localhost:8080/"
        },
        "id": "OvrMc71RVBjf",
        "outputId": "1e3d7a66-99c6-4f78-94dc-b84417e03b08"
      },
      "execution_count": 125,
      "outputs": [
        {
          "output_type": "stream",
          "name": "stdout",
          "text": [
            "   Index      Customer Id First Name Last Name\n",
            "0      1  DD37Cf93aecA6Dc     Sheryl    Baxter\n",
            "1      2  1Ef7b82A4CAAD10    Preston    Lozano\n",
            "2      3  6F94879bDAfE5a6        Roy     Berry\n",
            "3      4  5Cef8BFA16c5e3c      Linda     Olsen\n",
            "4      5  053d585Ab6b3159     Joanna    Bender\n"
          ]
        }
      ]
    },
    {
      "cell_type": "code",
      "source": [
        "#Save the DataFrame to a Excel file\n",
        "emp.to_excel(\"example2.xlsx\",index=False)"
      ],
      "metadata": {
        "id": "Z-OdsHQCWP7k"
      },
      "execution_count": 127,
      "outputs": []
    },
    {
      "cell_type": "code",
      "source": [
        "#Reading from Excel file\n",
        "d7=pd.read_excel(\"Excel_sample.xlsx\")\n",
        "print(d7.iloc[:3,:4])"
      ],
      "metadata": {
        "colab": {
          "base_uri": "https://localhost:8080/"
        },
        "id": "wL4d2IJWWxbP",
        "outputId": "5655caf2-5e07-4f01-c411-d6697604730e"
      },
      "execution_count": 131,
      "outputs": [
        {
          "output_type": "stream",
          "name": "stdout",
          "text": [
            "  Project Name              Task Name Assigned to Start Date\n",
            "0    Marketing        Market Research       Alice 2024-01-01\n",
            "1    Marketing       Content Creation         Bob 2024-01-14\n",
            "2    Marketing  Social Media Planning     Charlie 2024-01-28\n"
          ]
        }
      ]
    },
    {
      "cell_type": "markdown",
      "source": [
        "### 1.8 Advanced Data Manipulations"
      ],
      "metadata": {
        "id": "TNvxjVOiXuI3"
      }
    },
    {
      "cell_type": "code",
      "source": [
        "#Create a Pivot Table\n",
        "print(pd.pivot_table(d5,values=\"Salary\",index=\"Department\",aggfunc=\"max\"))"
      ],
      "metadata": {
        "colab": {
          "base_uri": "https://localhost:8080/"
        },
        "id": "O6CYMqAcXxj4",
        "outputId": "ff4a13f4-7838-49f5-b360-fef762a7f54a"
      },
      "execution_count": 142,
      "outputs": [
        {
          "output_type": "stream",
          "name": "stdout",
          "text": [
            "            Bonus  Salary\n",
            "Department               \n",
            "Finance      6200   62000\n",
            "HR           5200   52000\n",
            "IT           7200   72000\n"
          ]
        }
      ]
    },
    {
      "cell_type": "code",
      "source": [
        "#Create a Multi-Index DataFrame\n",
        "d7=pd.DataFrame([x for x in \"ABCDEF\"],index=[1,1,1,2,2,3])\n",
        "print(d7)"
      ],
      "metadata": {
        "colab": {
          "base_uri": "https://localhost:8080/"
        },
        "id": "ytMHpQ_mZlqo",
        "outputId": "9c5a3d0d-e2fc-4b5e-8c07-c613c9ea3a4e"
      },
      "execution_count": 146,
      "outputs": [
        {
          "output_type": "stream",
          "name": "stdout",
          "text": [
            "   0\n",
            "1  A\n",
            "1  B\n",
            "1  C\n",
            "2  D\n",
            "2  E\n",
            "3  F\n"
          ]
        }
      ]
    },
    {
      "cell_type": "code",
      "source": [
        "#Accessing Data in a Multi-Index DataFrame\n",
        "print(d7.loc[1])"
      ],
      "metadata": {
        "colab": {
          "base_uri": "https://localhost:8080/"
        },
        "id": "74mInkVHamBD",
        "outputId": "8362d896-6e16-4631-c853-5941d84149f4"
      },
      "execution_count": 147,
      "outputs": [
        {
          "output_type": "stream",
          "name": "stdout",
          "text": [
            "   0\n",
            "1  A\n",
            "1  B\n",
            "1  C\n"
          ]
        }
      ]
    },
    {
      "cell_type": "code",
      "source": [
        "#Using melt() to Unpivot Data\n",
        "melted=pd.melt(d5, id_vars=[\"Department\", \"Employee\"], value_vars=[\"Salary\", \"Bonus\", \"Year\"], var_name=\"Metric\", value_name=\"Value\")\n",
        "print(melted)"
      ],
      "metadata": {
        "colab": {
          "base_uri": "https://localhost:8080/"
        },
        "id": "yU11UkOTcJD_",
        "outputId": "5649845f-14c0-4077-d736-9063f9000102"
      },
      "execution_count": 149,
      "outputs": [
        {
          "output_type": "stream",
          "name": "stdout",
          "text": [
            "   Department Employee  Metric  Value\n",
            "0          HR    Alice  Salary  50000\n",
            "1     Finance      Bob  Salary  60000\n",
            "2          HR  Charlie  Salary  52000\n",
            "3          IT    David  Salary  70000\n",
            "4     Finance      Eve  Salary  62000\n",
            "5          IT    Frank  Salary  72000\n",
            "6          HR    Grace  Salary  51000\n",
            "7     Finance   Hannah  Salary  61000\n",
            "8          HR    Alice   Bonus   5000\n",
            "9     Finance      Bob   Bonus   6000\n",
            "10         HR  Charlie   Bonus   5200\n",
            "11         IT    David   Bonus   7000\n",
            "12    Finance      Eve   Bonus   6200\n",
            "13         IT    Frank   Bonus   7200\n",
            "14         HR    Grace   Bonus   5100\n",
            "15    Finance   Hannah   Bonus   6100\n",
            "16         HR    Alice    Year      2\n",
            "17    Finance      Bob    Year      5\n",
            "18         HR  Charlie    Year      3\n",
            "19         IT    David    Year      8\n",
            "20    Finance      Eve    Year      6\n",
            "21         IT    Frank    Year      9\n",
            "22         HR    Grace    Year      1\n",
            "23    Finance   Hannah    Year      4\n"
          ]
        }
      ]
    }
  ]
}