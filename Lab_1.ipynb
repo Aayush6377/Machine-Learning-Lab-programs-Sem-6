{
  "nbformat": 4,
  "nbformat_minor": 0,
  "metadata": {
    "colab": {
      "provenance": [],
      "authorship_tag": "ABX9TyPB9Vy3JAzPzj3dNuXaZM1v",
      "include_colab_link": true
    },
    "kernelspec": {
      "name": "python3",
      "display_name": "Python 3"
    },
    "language_info": {
      "name": "python"
    }
  },
  "cells": [
    {
      "cell_type": "markdown",
      "metadata": {
        "id": "view-in-github",
        "colab_type": "text"
      },
      "source": [
        "<a href=\"https://colab.research.google.com/github/Aayush6377/Machine-Learning-Lab-programs-Sem-6/blob/main/Lab_1.ipynb\" target=\"_parent\"><img src=\"https://colab.research.google.com/assets/colab-badge.svg\" alt=\"Open In Colab\"/></a>"
      ]
    },
    {
      "cell_type": "markdown",
      "source": [
        "## **Experiment 1. Experiment with Following Pandas Operations through Python Commands**"
      ],
      "metadata": {
        "id": "0luaUaBX7K1j"
      }
    },
    {
      "cell_type": "markdown",
      "source": [
        "### 1.1 Introduction to Pandas"
      ],
      "metadata": {
        "id": "MG_nvN4b7aGj"
      }
    },
    {
      "cell_type": "code",
      "execution_count": 1,
      "metadata": {
        "id": "PerxXrWE6-vU"
      },
      "outputs": [],
      "source": [
        "import numpy as np\n",
        "import pandas as pd"
      ]
    },
    {
      "cell_type": "code",
      "source": [
        "p=pd.Series()\n",
        "print(\"Empty Series\")\n",
        "print(p)\n",
        "\n",
        "print(\"Numerical Series\")\n",
        "p=pd.Series([x for x in range(2,21,2)])\n",
        "print(p)\n",
        "\n",
        "print(\"Character Series\")\n",
        "p=pd.Series([x for x in \"abcdefgh\"])\n",
        "print(p)\n",
        "\n",
        "print(\"Series by dictionary\")\n",
        "dic={'A':1,'B':2,'C':3}\n",
        "p=pd.Series(dic)\n",
        "print(p)"
      ],
      "metadata": {
        "colab": {
          "base_uri": "https://localhost:8080/"
        },
        "id": "DFCaXBML70HF",
        "outputId": "f585c778-4f58-4940-a6a1-e4d9f61fac32"
      },
      "execution_count": 4,
      "outputs": [
        {
          "output_type": "stream",
          "name": "stdout",
          "text": [
            "Empty Series\n",
            "Series([], dtype: object)\n",
            "Numerical Series\n",
            "0     2\n",
            "1     4\n",
            "2     6\n",
            "3     8\n",
            "4    10\n",
            "5    12\n",
            "6    14\n",
            "7    16\n",
            "8    18\n",
            "9    20\n",
            "dtype: int64\n",
            "Character Series\n",
            "0    a\n",
            "1    b\n",
            "2    c\n",
            "3    d\n",
            "4    e\n",
            "5    f\n",
            "6    g\n",
            "7    h\n",
            "dtype: object\n",
            "Series by dictionary\n",
            "A    1\n",
            "B    2\n",
            "C    3\n",
            "dtype: int64\n"
          ]
        }
      ]
    },
    {
      "cell_type": "code",
      "source": [
        "#Creating using list\n",
        "q=pd.DataFrame([1,2,3,4,5,6])\n",
        "print(q)\n",
        "\n",
        "#Creating using Dictionary\n",
        "dic={'Name':['Aayush','Arpit','Vinayak','Kirti'],'Class':['6C1','6B2','6B1','5C2'],'Marks':[67,89,92,56]}\n",
        "q=pd.DataFrame(dic)\n",
        "print(q)"
      ],
      "metadata": {
        "colab": {
          "base_uri": "https://localhost:8080/"
        },
        "id": "GC1Z7Cts84hN",
        "outputId": "cab94277-3511-4843-fb57-82bbfad645ea"
      },
      "execution_count": 3,
      "outputs": [
        {
          "output_type": "stream",
          "name": "stdout",
          "text": [
            "   0\n",
            "0  1\n",
            "1  2\n",
            "2  3\n",
            "3  4\n",
            "4  5\n",
            "5  6\n",
            "      Name Class  Marks\n",
            "0   Aayush   6C1     67\n",
            "1    Arpit   6B2     89\n",
            "2  Vinayak   6B1     92\n",
            "3    Kirti   5C2     56\n"
          ]
        }
      ]
    },
    {
      "cell_type": "markdown",
      "source": [
        "### 1.2 Data Selection and Indexing"
      ],
      "metadata": {
        "id": "esM2TWIz-5YL"
      }
    },
    {
      "cell_type": "code",
      "source": [
        "p=pd.Series([x for x in \"abcdefgh\"],index=range(10,90,10))\n",
        "print(p)\n",
        "\n",
        "# Normal way\n",
        "print(\"Normal\")\n",
        "print(p[30])\n",
        "print(p[1:6])\n",
        "print(p[:7])\n",
        "\n",
        "# Head and Tail functions\n",
        "print(\"Head and Tail\")\n",
        "print(p.head())\n",
        "print(p.tail(3))\n",
        "\n",
        "#  loc function\n",
        "print(\"Loc function\")\n",
        "print(p.loc[10])\n",
        "print(p.loc[30:60])\n",
        "\n",
        "# iloc function\n",
        "print(\"iloc function\")\n",
        "print(p.iloc[3])\n",
        "print(p.iloc[2:6])"
      ],
      "metadata": {
        "colab": {
          "base_uri": "https://localhost:8080/"
        },
        "id": "3By2vKSw-8Th",
        "outputId": "93d514bc-270f-4bbf-de32-b4818086077e"
      },
      "execution_count": 12,
      "outputs": [
        {
          "output_type": "stream",
          "name": "stdout",
          "text": [
            "10    a\n",
            "20    b\n",
            "30    c\n",
            "40    d\n",
            "50    e\n",
            "60    f\n",
            "70    g\n",
            "80    h\n",
            "dtype: object\n",
            "Normal\n",
            "c\n",
            "20    b\n",
            "30    c\n",
            "40    d\n",
            "50    e\n",
            "60    f\n",
            "dtype: object\n",
            "10    a\n",
            "20    b\n",
            "30    c\n",
            "40    d\n",
            "50    e\n",
            "60    f\n",
            "70    g\n",
            "dtype: object\n",
            "Head and Tail\n",
            "10    a\n",
            "20    b\n",
            "30    c\n",
            "40    d\n",
            "50    e\n",
            "dtype: object\n",
            "60    f\n",
            "70    g\n",
            "80    h\n",
            "dtype: object\n",
            "Loc function\n",
            "a\n",
            "30    c\n",
            "40    d\n",
            "50    e\n",
            "60    f\n",
            "dtype: object\n",
            "iloc function\n",
            "d\n",
            "30    c\n",
            "40    d\n",
            "50    e\n",
            "60    f\n",
            "dtype: object\n"
          ]
        }
      ]
    },
    {
      "cell_type": "code",
      "source": [
        "dic={'Name':['Aayush','Arpit','Vinayak','Kirti'],'Class':['6C1','6B2','6B1','5C2'],'Marks':[67,89,92,56]}\n",
        "q=pd.DataFrame(dic)\n",
        "print(q)\n",
        "\n",
        "#Extracting columns\n",
        "print(q['Name'])\n",
        "print(q[['Class','Marks']])\n",
        "print(q.loc[:,'Marks'])\n",
        "print(q.iloc[:,0:2])\n",
        "\n",
        "#Extracting rows\n",
        "print(q.loc[2])\n",
        "print(q.iloc[2:3])\n",
        "\n",
        "#Extracting Subsets\n",
        "print(q.loc[[1,3],[\"Name\",\"Marks\"]])\n",
        "print(q.iloc[0:2,0:2])"
      ],
      "metadata": {
        "colab": {
          "base_uri": "https://localhost:8080/"
        },
        "id": "cuepqDpFCYAe",
        "outputId": "d5d919d7-244d-4f20-8398-5dc185dd2536"
      },
      "execution_count": 23,
      "outputs": [
        {
          "output_type": "stream",
          "name": "stdout",
          "text": [
            "      Name Class  Marks\n",
            "0   Aayush   6C1     67\n",
            "1    Arpit   6B2     89\n",
            "2  Vinayak   6B1     92\n",
            "3    Kirti   5C2     56\n",
            "0     Aayush\n",
            "1      Arpit\n",
            "2    Vinayak\n",
            "3      Kirti\n",
            "Name: Name, dtype: object\n",
            "  Class  Marks\n",
            "0   6C1     67\n",
            "1   6B2     89\n",
            "2   6B1     92\n",
            "3   5C2     56\n",
            "0    67\n",
            "1    89\n",
            "2    92\n",
            "3    56\n",
            "Name: Marks, dtype: int64\n",
            "      Name Class\n",
            "0   Aayush   6C1\n",
            "1    Arpit   6B2\n",
            "2  Vinayak   6B1\n",
            "3    Kirti   5C2\n",
            "Name     Vinayak\n",
            "Class        6B1\n",
            "Marks         92\n",
            "Name: 2, dtype: object\n",
            "      Name Class  Marks\n",
            "2  Vinayak   6B1     92\n",
            "    Name  Marks\n",
            "1  Arpit     89\n",
            "3  Kirti     56\n",
            "     Name Class\n",
            "0  Aayush   6C1\n",
            "1   Arpit   6B2\n"
          ]
        }
      ]
    },
    {
      "cell_type": "markdown",
      "source": [
        "### 1.3 Data Cleaning and Preprocessing"
      ],
      "metadata": {
        "id": "nEEsMZ3PEtT_"
      }
    },
    {
      "cell_type": "code",
      "source": [],
      "metadata": {
        "id": "GztW8JBpEw-n"
      },
      "execution_count": null,
      "outputs": []
    }
  ]
}